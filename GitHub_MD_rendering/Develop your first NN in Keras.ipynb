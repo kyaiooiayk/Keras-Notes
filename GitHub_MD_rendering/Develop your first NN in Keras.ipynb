{
 "cells": [
  {
   "cell_type": "markdown",
   "metadata": {},
   "source": [
    "# Introduction\n",
    "<hr style=\"border:2px solid black\"> </hr>"
   ]
  },
  {
   "cell_type": "markdown",
   "metadata": {},
   "source": [
    "\n",
    "**What?** Develop your first NN in Keras\n",
    "\n",
""   ]
  },
  {
   "cell_type": "markdown",
   "metadata": {},
   "source": [
    "# Import modules\n",
    "<hr style=\"border:2px solid black\"> </hr>"
   ]
  },
  {
   "cell_type": "code",
   "execution_count": 2,
   "metadata": {},
   "outputs": [],
   "source": [
    "from keras.models import Sequential\n",
    "from keras.layers import Dense\n",
    "import numpy\n",
    "import tensorflow as tf"
   ]
  },
  {
   "cell_type": "markdown",
   "metadata": {},
   "source": [
    "# Import dataset\n",
    "<hr style=\"border:2px solid black\"> </hr>"
   ]
  },
  {
   "cell_type": "markdown",
   "metadata": {},
   "source": [
    "\n",
    "- It des ribes patient medical record data for Pima Indians and whether they had an onset of diabetes within five years.\n",
    "- The problem is a classification problem. The output is either 1 (has diabete) or 0 (does not have diabete).\n",
    "\n",
""   ]
  },
  {
   "cell_type": "code",
   "execution_count": 3,
   "metadata": {},
   "outputs": [],
   "source": [
    "# load pima indians dataset\n",
    "dataset = numpy.loadtxt(\"../DATASETS/pima-indians-diabetes.csv\", delimiter=\",\")\n",
    "# split into input (X) and output (Y) variables\n",
    "X = dataset[:,0:8]\n",
    "Y = dataset[:,8]"
   ]
  },
  {
   "cell_type": "code",
   "execution_count": 4,
   "metadata": {},
   "outputs": [
    {
     "data": {
      "text/plain": [
       "(768, 8)"
      ]
     },
     "execution_count": 4,
     "metadata": {},
     "output_type": "execute_result"
    }
   ],
   "source": [
    "# No of data x No of features (inputs)\n",
    "X.shape"
   ]
  },
  {
   "cell_type": "code",
   "execution_count": 7,
   "metadata": {},
   "outputs": [
    {
     "name": "stdout",
     "output_type": "stream",
     "text": [
      "(768,)\n"
     ]
    },
    {
     "data": {
      "text/plain": [
       "(768, 1)"
      ]
     },
     "execution_count": 7,
     "metadata": {},
     "output_type": "execute_result"
    }
   ],
   "source": [
    "# No of data x No of outputs\n",
    "print(Y.shape)\n",
    "# Thi is equivalent to\n",
    "Y.reshape(-1,1).shape"
   ]
  },
  {
   "cell_type": "code",
   "execution_count": 9,
   "metadata": {
    "scrolled": true
   },
   "outputs": [
    {
     "data": {
      "text/plain": [
       "array([1., 0., 1., 0., 1., 0., 1., 0., 1., 1., 0., 1., 0., 1., 1., 1., 1.,\n",
       "       1., 0., 1., 0., 0., 1., 1., 1., 1., 1., 0., 0., 0., 0., 1., 0., 0.,\n",
       "       0., 0., 0., 1., 1., 1., 0., 0., 0., 1., 0., 1., 0., 0., 1., 0., 0.,\n",
       "       0., 0., 1., 0., 0., 1., 0., 0., 0., 0., 1., 0., 0., 1., 0., 1., 0.,\n",
       "       0., 0., 1., 0., 1., 0., 0., 0., 0., 0., 1., 0., 0., 0., 0., 0., 1.,\n",
       "       0., 0., 0., 1., 0., 0., 0., 0., 1., 0., 0., 0., 0., 0., 1., 1., 0.,\n",
       "       0., 0., 0., 0., 0., 0., 0., 1., 1., 1., 0., 0., 1., 1., 1., 0., 0.,\n",
       "       0., 1., 0., 0., 0., 1., 1., 0., 0., 1., 1., 1., 1., 1., 0., 0., 0.,\n",
       "       0., 0., 0., 0., 0., 0., 0., 1., 0., 0., 0., 0., 0., 0., 0., 0., 1.,\n",
       "       0., 1., 1., 0., 0., 0., 1., 0., 0., 0., 0., 1., 1., 0., 0., 0., 0.,\n",
       "       1., 1., 0., 0., 0., 1., 0., 1., 0., 1., 0., 0., 0., 0., 0., 1., 1.,\n",
       "       1., 1., 1., 0., 0., 1., 1., 0., 1., 0., 1., 1., 1., 0., 0., 0., 0.,\n",
       "       0., 0., 1., 1., 0., 1., 0., 0., 0., 1., 1., 1., 1., 0., 1., 1., 1.,\n",
       "       1., 0., 0., 0., 0., 0., 1., 0., 0., 1., 1., 0., 0., 0., 1., 1., 1.,\n",
       "       1., 0., 0., 0., 1., 1., 0., 1., 0., 0., 0., 0., 0., 0., 0., 0., 1.,\n",
       "       1., 0., 0., 0., 1., 0., 1., 0., 0., 1., 0., 1., 0., 0., 1., 1., 0.,\n",
       "       0., 0., 0., 0., 1., 0., 0., 0., 1., 0., 0., 1., 1., 0., 0., 1., 0.,\n",
       "       0., 0., 1., 1., 1., 0., 0., 1., 0., 1., 0., 1., 1., 0., 1., 0., 0.,\n",
       "       1., 0., 1., 1., 0., 0., 1., 0., 1., 0., 0., 1., 0., 1., 0., 1., 1.,\n",
       "       1., 0., 0., 1., 0., 1., 0., 0., 0., 1., 0., 0., 0., 0., 1., 1., 1.,\n",
       "       0., 0., 0., 0., 0., 0., 0., 0., 0., 1., 0., 0., 0., 0., 0., 1., 1.,\n",
       "       1., 0., 1., 1., 0., 0., 1., 0., 0., 1., 0., 0., 1., 1., 0., 0., 0.,\n",
       "       0., 1., 0., 0., 1., 0., 0., 0., 0., 0., 0., 0., 1., 1., 1., 0., 0.,\n",
       "       1., 0., 0., 1., 0., 0., 1., 0., 1., 1., 0., 1., 0., 1., 0., 1., 0.,\n",
       "       1., 1., 0., 0., 0., 0., 1., 1., 0., 1., 0., 1., 0., 0., 0., 0., 1.,\n",
       "       1., 0., 1., 0., 1., 0., 0., 0., 0., 0., 1., 0., 0., 0., 0., 1., 0.,\n",
       "       0., 1., 1., 1., 0., 0., 1., 0., 0., 1., 0., 0., 0., 1., 0., 0., 1.,\n",
       "       0., 0., 0., 0., 0., 0., 0., 0., 0., 1., 0., 0., 0., 0., 0., 0., 0.,\n",
       "       1., 0., 0., 0., 1., 0., 0., 0., 1., 1., 0., 0., 0., 0., 0., 0., 0.,\n",
       "       1., 0., 0., 0., 0., 1., 0., 0., 0., 1., 0., 0., 0., 1., 0., 0., 0.,\n",
       "       1., 0., 0., 0., 0., 1., 1., 0., 0., 0., 0., 0., 0., 1., 0., 0., 0.,\n",
       "       0., 0., 0., 0., 0., 0., 0., 0., 1., 0., 0., 0., 1., 1., 1., 1., 0.,\n",
       "       0., 1., 1., 0., 0., 0., 0., 0., 0., 0., 0., 0., 0., 0., 0., 0., 1.,\n",
       "       1., 0., 0., 0., 0., 0., 0., 0., 1., 0., 0., 0., 0., 0., 0., 0., 1.,\n",
       "       0., 1., 1., 0., 0., 0., 1., 0., 1., 0., 1., 0., 1., 0., 1., 0., 0.,\n",
       "       1., 0., 0., 1., 0., 0., 0., 0., 1., 1., 0., 1., 0., 0., 0., 0., 1.,\n",
       "       1., 0., 1., 0., 0., 0., 1., 1., 0., 0., 0., 0., 0., 0., 0., 0., 0.,\n",
       "       0., 1., 0., 0., 0., 0., 1., 0., 0., 1., 0., 0., 0., 1., 0., 0., 0.,\n",
       "       1., 1., 1., 0., 0., 0., 0., 0., 0., 1., 0., 0., 0., 1., 0., 1., 1.,\n",
       "       1., 1., 0., 1., 1., 0., 0., 0., 0., 0., 0., 0., 1., 1., 0., 1., 0.,\n",
       "       0., 1., 0., 1., 0., 0., 0., 0., 0., 1., 0., 1., 0., 1., 0., 1., 1.,\n",
       "       0., 0., 0., 0., 1., 1., 0., 0., 0., 1., 0., 1., 1., 0., 0., 1., 0.,\n",
       "       0., 1., 1., 0., 0., 1., 0., 0., 1., 0., 0., 0., 0., 0., 0., 0., 1.,\n",
       "       1., 1., 0., 0., 0., 0., 0., 0., 1., 1., 0., 0., 1., 0., 0., 1., 0.,\n",
       "       1., 1., 1., 0., 0., 1., 1., 1., 0., 1., 0., 1., 0., 1., 0., 0., 0.,\n",
       "       0., 1., 0.])"
      ]
     },
     "execution_count": 9,
     "metadata": {},
     "output_type": "execute_result"
    }
   ],
   "source": [
    "Y"
   ]
  },
  {
   "cell_type": "markdown",
   "metadata": {},
   "source": [
    "# Define the model\n",
    "<hr style=\"border:2px solid black\"> </hr>"
   ]
  },
  {
   "cell_type": "markdown",
   "metadata": {},
   "source": [
    "\n",
    "- We''ll use a fully-connected network structure with three layers. This means one input layers, two hidden layers and one output.\n",
    "- We will use the rectifier (relu) activation function on the first two layers and the sigmoid activation function in the output layer. We use a sigmoid activation function on the output layer to ensure our network output is between 0 and 1.\n",
    "\n",
""   ]
  },
  {
   "cell_type": "code",
   "execution_count": 11,
   "metadata": {},
   "outputs": [],
   "source": [
    "model = Sequential()\n",
    "model.add(Dense(12, input_dim = 8, kernel_initializer = 'uniform' , activation=  \"relu\" ))\n",
    "model.add(Dense(8, kernel_initializer = \"uniform\" , activation = \"relu\" ))\n",
    "model.add(Dense(1, kernel_initializer = \"uniform\" , activation = \"sigmoid\" ))"
   ]
  },
  {
   "attachments": {
    "image.png": {
     "image/png": "[encoded data removed]"
    }
   },
   "cell_type": "markdown",
   "metadata": {},
   "source": [
    "![image.png](attachment:image.png)"
   ]
  },
  {
   "cell_type": "markdown",
   "metadata": {},
   "source": [
    "\n",
    "- Just to clarify the way we built the framework. **You may be wondering why we have used an activation function in the inupt layer?**\n",
    "- `model.add(Dense(12, input_dim = 8, kernel_initializer = 'uniform' , activation = \"relu\" ))`\n",
    "    - It defines the input layer (`input_dim`) as having `8` inputs.\n",
    "    - It defines a hidden layer with 12 neurons, connected to the input layer that use relu activation function.\n",
    "    - It initializes all weights using a sample of uniform random numbers.\n",
    "\n",
""   ]
  },
  {
   "cell_type": "code",
   "execution_count": 12,
   "metadata": {},
   "outputs": [
    {
     "name": "stdout",
     "output_type": "stream",
     "text": [
      "Model: \"sequential\"\n",
      "_________________________________________________________________\n",
      "Layer (type)                 Output Shape              Param #   \n",
      "=================================================================\n",
      "dense (Dense)                (None, 12)                108       \n",
      "_________________________________________________________________\n",
      "dense_1 (Dense)              (None, 8)                 104       \n",
      "_________________________________________________________________\n",
      "dense_2 (Dense)              (None, 1)                 9         \n",
      "=================================================================\n",
      "Total params: 221\n",
      "Trainable params: 221\n",
      "Non-trainable params: 0\n",
      "_________________________________________________________________\n"
     ]
    }
   ],
   "source": [
    "model.summary()"
   ]
  },
  {
   "cell_type": "markdown",
   "metadata": {},
   "source": [
    "# Compile the model\n",
    "<hr style=\"border:2px solid black\"> </hr>"
   ]
  },
  {
   "cell_type": "code",
   "execution_count": null,
   "metadata": {},
   "outputs": [],
   "source": [
    "\"\"\"\n",
    "Now that the model is defined, we can compile it. Compiling the model uses the effcient numerical \n",
    "libraries under the covers (the so-called backend) such as Theano or TensorFlow\n",
    "\"\"\""
   ]
  },
  {
   "cell_type": "code",
   "execution_count": 14,
   "metadata": {},
   "outputs": [],
   "source": [
    "bce = tf.keras.losses.BinaryCrossentropy()\n",
    "adam = tf.keras.optimizers.Adam()\n",
    "model.compile(loss= bce , optimizer= adam , metrics = ['accuracy'])"
   ]
  },
  {
   "cell_type": "markdown",
   "metadata": {},
   "source": [
    "# Fit model\n",
    "<hr style=\"border:2px solid black\"> </hr>"
   ]
  },
  {
   "cell_type": "code",
   "execution_count": null,
   "metadata": {},
   "outputs": [],
   "source": [
    "\"\"\"\n",
    "Now it is time to execute the model on some data. We can train or fit our model on our loaded data\n",
    "by calling the fit() function on the model.\n",
    "The training process will run for a fixed number of iterations through the dataset called epochs, \n",
    "that we must specify using the nb epoch argument. We can also set the number of instances that are \n",
    "evaluated before a weight update in the network is performed called the batch size and set using \n",
    "the batch size argument. For this problem we will run for a small number of epochs (150) and use\n",
    "a relatively small batch size of 10.\n",
    "\"\"\""
   ]
  },
  {
   "cell_type": "code",
   "execution_count": 18,
   "metadata": {},
   "outputs": [
    {
     "name": "stdout",
     "output_type": "stream",
     "text": [
      "Epoch 1/150\n",
      "77/77 [==============================] - 0s 878us/step - loss: 0.6650 - accuracy: 0.6510\n",
      "Epoch 2/150\n",
      "77/77 [==============================] - 0s 871us/step - loss: 0.6565 - accuracy: 0.6458\n",
      "Epoch 3/150\n",
      "77/77 [==============================] - 0s 890us/step - loss: 0.6495 - accuracy: 0.6523\n",
      "Epoch 4/150\n",
      "77/77 [==============================] - 0s 873us/step - loss: 0.6426 - accuracy: 0.6523\n",
      "Epoch 5/150\n",
      "77/77 [==============================] - 0s 805us/step - loss: 0.6396 - accuracy: 0.6667\n",
      "Epoch 6/150\n",
      "77/77 [==============================] - 0s 815us/step - loss: 0.6292 - accuracy: 0.6667\n",
      "Epoch 7/150\n",
      "77/77 [==============================] - 0s 817us/step - loss: 0.6198 - accuracy: 0.6771\n",
      "Epoch 8/150\n",
      "77/77 [==============================] - 0s 800us/step - loss: 0.6078 - accuracy: 0.6758\n",
      "Epoch 9/150\n",
      "77/77 [==============================] - 0s 817us/step - loss: 0.6057 - accuracy: 0.6875\n",
      "Epoch 10/150\n",
      "77/77 [==============================] - 0s 882us/step - loss: 0.5926 - accuracy: 0.7044\n",
      "Epoch 11/150\n",
      "77/77 [==============================] - 0s 918us/step - loss: 0.5929 - accuracy: 0.6875\n",
      "Epoch 12/150\n",
      "77/77 [==============================] - 0s 877us/step - loss: 0.5853 - accuracy: 0.6901\n",
      "Epoch 13/150\n",
      "77/77 [==============================] - 0s 883us/step - loss: 0.5821 - accuracy: 0.6979\n",
      "Epoch 14/150\n",
      "77/77 [==============================] - 0s 882us/step - loss: 0.5814 - accuracy: 0.7148\n",
      "Epoch 15/150\n",
      "77/77 [==============================] - 0s 859us/step - loss: 0.5793 - accuracy: 0.7070\n",
      "Epoch 16/150\n",
      "77/77 [==============================] - 0s 954us/step - loss: 0.5741 - accuracy: 0.7031\n",
      "Epoch 17/150\n",
      "77/77 [==============================] - 0s 830us/step - loss: 0.5720 - accuracy: 0.7083\n",
      "Epoch 18/150\n",
      "77/77 [==============================] - 0s 802us/step - loss: 0.5708 - accuracy: 0.7148\n",
      "Epoch 19/150\n",
      "77/77 [==============================] - 0s 823us/step - loss: 0.5689 - accuracy: 0.7292\n",
      "Epoch 20/150\n",
      "77/77 [==============================] - 0s 870us/step - loss: 0.5649 - accuracy: 0.7305\n",
      "Epoch 21/150\n",
      "77/77 [==============================] - 0s 809us/step - loss: 0.5587 - accuracy: 0.7201\n",
      "Epoch 22/150\n",
      "77/77 [==============================] - 0s 825us/step - loss: 0.5619 - accuracy: 0.7201\n",
      "Epoch 23/150\n",
      "77/77 [==============================] - 0s 825us/step - loss: 0.5591 - accuracy: 0.7240\n",
      "Epoch 24/150\n",
      "77/77 [==============================] - 0s 881us/step - loss: 0.5644 - accuracy: 0.7148\n",
      "Epoch 25/150\n",
      "77/77 [==============================] - 0s 848us/step - loss: 0.5559 - accuracy: 0.7240\n",
      "Epoch 26/150\n",
      "77/77 [==============================] - 0s 808us/step - loss: 0.5508 - accuracy: 0.7292\n",
      "Epoch 27/150\n",
      "77/77 [==============================] - 0s 797us/step - loss: 0.5499 - accuracy: 0.7279\n",
      "Epoch 28/150\n",
      "77/77 [==============================] - 0s 831us/step - loss: 0.5479 - accuracy: 0.7305\n",
      "Epoch 29/150\n",
      "77/77 [==============================] - 0s 824us/step - loss: 0.5450 - accuracy: 0.7331\n",
      "Epoch 30/150\n",
      "77/77 [==============================] - 0s 798us/step - loss: 0.5394 - accuracy: 0.7279\n",
      "Epoch 31/150\n",
      "77/77 [==============================] - 0s 830us/step - loss: 0.5534 - accuracy: 0.7435\n",
      "Epoch 32/150\n",
      "77/77 [==============================] - 0s 806us/step - loss: 0.5432 - accuracy: 0.7409\n",
      "Epoch 33/150\n",
      "77/77 [==============================] - 0s 803us/step - loss: 0.5395 - accuracy: 0.7383\n",
      "Epoch 34/150\n",
      "77/77 [==============================] - 0s 884us/step - loss: 0.5363 - accuracy: 0.7318\n",
      "Epoch 35/150\n",
      "77/77 [==============================] - 0s 803us/step - loss: 0.5402 - accuracy: 0.7435\n",
      "Epoch 36/150\n",
      "77/77 [==============================] - 0s 801us/step - loss: 0.5442 - accuracy: 0.7266\n",
      "Epoch 37/150\n",
      "77/77 [==============================] - 0s 816us/step - loss: 0.5352 - accuracy: 0.7357\n",
      "Epoch 38/150\n",
      "77/77 [==============================] - 0s 788us/step - loss: 0.5413 - accuracy: 0.7422\n",
      "Epoch 39/150\n",
      "77/77 [==============================] - 0s 849us/step - loss: 0.5293 - accuracy: 0.7526\n",
      "Epoch 40/150\n",
      "77/77 [==============================] - 0s 865us/step - loss: 0.5340 - accuracy: 0.7500\n",
      "Epoch 41/150\n",
      "77/77 [==============================] - 0s 862us/step - loss: 0.5287 - accuracy: 0.7565\n",
      "Epoch 42/150\n",
      "77/77 [==============================] - 0s 876us/step - loss: 0.5318 - accuracy: 0.7474\n",
      "Epoch 43/150\n",
      "77/77 [==============================] - 0s 845us/step - loss: 0.5268 - accuracy: 0.7409\n",
      "Epoch 44/150\n",
      "77/77 [==============================] - 0s 858us/step - loss: 0.5246 - accuracy: 0.7565\n",
      "Epoch 45/150\n",
      "77/77 [==============================] - 0s 846us/step - loss: 0.5270 - accuracy: 0.7513\n",
      "Epoch 46/150\n",
      "77/77 [==============================] - 0s 861us/step - loss: 0.5233 - accuracy: 0.7474\n",
      "Epoch 47/150\n",
      "77/77 [==============================] - 0s 840us/step - loss: 0.5241 - accuracy: 0.7474\n",
      "Epoch 48/150\n",
      "77/77 [==============================] - 0s 779us/step - loss: 0.5312 - accuracy: 0.7526\n",
      "Epoch 49/150\n",
      "77/77 [==============================] - 0s 885us/step - loss: 0.5170 - accuracy: 0.7500\n",
      "Epoch 50/150\n",
      "77/77 [==============================] - 0s 799us/step - loss: 0.5236 - accuracy: 0.7526\n",
      "Epoch 51/150\n",
      "77/77 [==============================] - 0s 819us/step - loss: 0.5152 - accuracy: 0.7461\n",
      "Epoch 52/150\n",
      "77/77 [==============================] - 0s 847us/step - loss: 0.5166 - accuracy: 0.7513\n",
      "Epoch 53/150\n",
      "77/77 [==============================] - 0s 807us/step - loss: 0.5173 - accuracy: 0.7656\n",
      "Epoch 54/150\n",
      "77/77 [==============================] - 0s 784us/step - loss: 0.5146 - accuracy: 0.7578\n",
      "Epoch 55/150\n",
      "77/77 [==============================] - 0s 830us/step - loss: 0.5173 - accuracy: 0.7721\n",
      "Epoch 56/150\n",
      "77/77 [==============================] - 0s 801us/step - loss: 0.5146 - accuracy: 0.7565\n",
      "Epoch 57/150\n",
      "77/77 [==============================] - 0s 797us/step - loss: 0.5201 - accuracy: 0.7617\n",
      "Epoch 58/150\n",
      "77/77 [==============================] - 0s 795us/step - loss: 0.5104 - accuracy: 0.7682\n",
      "Epoch 59/150\n",
      "77/77 [==============================] - 0s 731us/step - loss: 0.5136 - accuracy: 0.7578\n",
      "Epoch 60/150\n",
      "77/77 [==============================] - 0s 768us/step - loss: 0.5111 - accuracy: 0.7565\n",
      "Epoch 61/150\n",
      "77/77 [==============================] - 0s 759us/step - loss: 0.5189 - accuracy: 0.7487\n",
      "Epoch 62/150\n",
      "77/77 [==============================] - 0s 783us/step - loss: 0.5147 - accuracy: 0.7617\n",
      "Epoch 63/150\n",
      "77/77 [==============================] - 0s 808us/step - loss: 0.5119 - accuracy: 0.7617\n",
      "Epoch 64/150\n",
      "77/77 [==============================] - 0s 816us/step - loss: 0.5062 - accuracy: 0.7526\n",
      "Epoch 65/150\n",
      "77/77 [==============================] - 0s 734us/step - loss: 0.5034 - accuracy: 0.7721\n",
      "Epoch 66/150\n",
      "77/77 [==============================] - 0s 764us/step - loss: 0.5022 - accuracy: 0.7656\n",
      "Epoch 67/150\n",
      "77/77 [==============================] - 0s 756us/step - loss: 0.5076 - accuracy: 0.7578\n",
      "Epoch 68/150\n",
      "77/77 [==============================] - 0s 846us/step - loss: 0.5100 - accuracy: 0.7721\n",
      "Epoch 69/150\n",
      "77/77 [==============================] - 0s 873us/step - loss: 0.5033 - accuracy: 0.7747\n",
      "Epoch 70/150\n",
      "77/77 [==============================] - 0s 890us/step - loss: 0.4989 - accuracy: 0.7773\n",
      "Epoch 71/150\n",
      "77/77 [==============================] - 0s 825us/step - loss: 0.5041 - accuracy: 0.7826\n",
      "Epoch 72/150\n",
      "77/77 [==============================] - 0s 855us/step - loss: 0.5009 - accuracy: 0.7669\n",
      "Epoch 73/150\n",
      "77/77 [==============================] - 0s 813us/step - loss: 0.4972 - accuracy: 0.7565\n",
      "Epoch 74/150\n",
      "77/77 [==============================] - 0s 887us/step - loss: 0.4989 - accuracy: 0.7773\n",
      "Epoch 75/150\n",
      "77/77 [==============================] - 0s 859us/step - loss: 0.4964 - accuracy: 0.7708\n",
      "Epoch 76/150\n",
      "77/77 [==============================] - 0s 859us/step - loss: 0.4953 - accuracy: 0.7786\n",
      "Epoch 77/150\n",
      "77/77 [==============================] - 0s 848us/step - loss: 0.4969 - accuracy: 0.7799\n",
      "Epoch 78/150\n",
      "77/77 [==============================] - 0s 844us/step - loss: 0.4926 - accuracy: 0.7747\n",
      "Epoch 79/150\n",
      "77/77 [==============================] - 0s 802us/step - loss: 0.4988 - accuracy: 0.7747\n",
      "Epoch 80/150\n",
      "77/77 [==============================] - 0s 852us/step - loss: 0.4975 - accuracy: 0.7630\n",
      "Epoch 81/150\n",
      "77/77 [==============================] - 0s 861us/step - loss: 0.4837 - accuracy: 0.7852\n",
      "Epoch 82/150\n",
      "77/77 [==============================] - 0s 799us/step - loss: 0.4910 - accuracy: 0.7734\n",
      "Epoch 83/150\n",
      "77/77 [==============================] - 0s 768us/step - loss: 0.4909 - accuracy: 0.7839\n",
      "Epoch 84/150\n",
      "77/77 [==============================] - 0s 773us/step - loss: 0.4836 - accuracy: 0.7839\n",
      "Epoch 85/150\n",
      "77/77 [==============================] - 0s 761us/step - loss: 0.4962 - accuracy: 0.7721\n",
      "Epoch 86/150\n",
      "77/77 [==============================] - 0s 744us/step - loss: 0.4863 - accuracy: 0.7721\n",
      "Epoch 87/150\n",
      "77/77 [==============================] - 0s 732us/step - loss: 0.4877 - accuracy: 0.7682\n",
      "Epoch 88/150\n",
      "77/77 [==============================] - 0s 719us/step - loss: 0.4876 - accuracy: 0.7617\n",
      "Epoch 89/150\n",
      "77/77 [==============================] - 0s 743us/step - loss: 0.4811 - accuracy: 0.7786\n",
      "Epoch 90/150\n",
      "77/77 [==============================] - 0s 714us/step - loss: 0.4844 - accuracy: 0.7760\n",
      "Epoch 91/150\n",
      "77/77 [==============================] - 0s 707us/step - loss: 0.4774 - accuracy: 0.7734\n",
      "Epoch 92/150\n",
      "77/77 [==============================] - 0s 767us/step - loss: 0.4727 - accuracy: 0.7826\n",
      "Epoch 93/150\n",
      "77/77 [==============================] - 0s 739us/step - loss: 0.4804 - accuracy: 0.7812\n",
      "Epoch 94/150\n",
      "77/77 [==============================] - 0s 752us/step - loss: 0.4820 - accuracy: 0.7682\n",
      "Epoch 95/150\n",
      "77/77 [==============================] - 0s 746us/step - loss: 0.4757 - accuracy: 0.7773\n",
      "Epoch 96/150\n",
      "77/77 [==============================] - 0s 798us/step - loss: 0.4718 - accuracy: 0.7812\n",
      "Epoch 97/150\n",
      "77/77 [==============================] - 0s 804us/step - loss: 0.4739 - accuracy: 0.7917\n",
      "Epoch 98/150\n",
      "77/77 [==============================] - 0s 769us/step - loss: 0.4706 - accuracy: 0.7826\n",
      "Epoch 99/150\n",
      "77/77 [==============================] - 0s 736us/step - loss: 0.4729 - accuracy: 0.7799\n",
      "Epoch 100/150\n",
      "77/77 [==============================] - 0s 769us/step - loss: 0.4647 - accuracy: 0.7786\n",
      "Epoch 101/150\n",
      "77/77 [==============================] - 0s 772us/step - loss: 0.4696 - accuracy: 0.7799\n",
      "Epoch 102/150\n",
      "77/77 [==============================] - 0s 747us/step - loss: 0.4712 - accuracy: 0.7760\n",
      "Epoch 103/150\n",
      "77/77 [==============================] - 0s 749us/step - loss: 0.4666 - accuracy: 0.7799\n",
      "Epoch 104/150\n",
      "77/77 [==============================] - 0s 743us/step - loss: 0.4715 - accuracy: 0.7734\n",
      "Epoch 105/150\n",
      "77/77 [==============================] - 0s 733us/step - loss: 0.4636 - accuracy: 0.7878\n",
      "Epoch 106/150\n",
      "77/77 [==============================] - 0s 833us/step - loss: 0.4674 - accuracy: 0.7812\n",
      "Epoch 107/150\n",
      "77/77 [==============================] - 0s 809us/step - loss: 0.4651 - accuracy: 0.7826\n",
      "Epoch 108/150\n",
      "77/77 [==============================] - 0s 790us/step - loss: 0.4718 - accuracy: 0.7786\n",
      "Epoch 109/150\n",
      "77/77 [==============================] - 0s 798us/step - loss: 0.4596 - accuracy: 0.7852\n",
      "Epoch 110/150\n",
      "77/77 [==============================] - 0s 818us/step - loss: 0.4733 - accuracy: 0.7786\n",
      "Epoch 111/150\n",
      "77/77 [==============================] - 0s 806us/step - loss: 0.4737 - accuracy: 0.7799\n",
      "Epoch 112/150\n",
      "77/77 [==============================] - 0s 803us/step - loss: 0.4603 - accuracy: 0.7852\n",
      "Epoch 113/150\n",
      "77/77 [==============================] - 0s 799us/step - loss: 0.4655 - accuracy: 0.7826\n",
      "Epoch 114/150\n",
      "77/77 [==============================] - 0s 788us/step - loss: 0.4570 - accuracy: 0.7865\n",
      "Epoch 115/150\n",
      "77/77 [==============================] - 0s 795us/step - loss: 0.4568 - accuracy: 0.7891\n",
      "Epoch 116/150\n",
      "77/77 [==============================] - 0s 782us/step - loss: 0.4615 - accuracy: 0.7878\n",
      "Epoch 117/150\n",
      "77/77 [==============================] - 0s 774us/step - loss: 0.4620 - accuracy: 0.7917\n",
      "Epoch 118/150\n",
      "77/77 [==============================] - 0s 818us/step - loss: 0.4579 - accuracy: 0.7956\n",
      "Epoch 119/150\n",
      "77/77 [==============================] - 0s 805us/step - loss: 0.4545 - accuracy: 0.7865\n",
      "Epoch 120/150\n",
      "77/77 [==============================] - 0s 840us/step - loss: 0.4642 - accuracy: 0.7734\n",
      "Epoch 121/150\n",
      "77/77 [==============================] - 0s 825us/step - loss: 0.4522 - accuracy: 0.7930\n",
      "Epoch 122/150\n",
      "77/77 [==============================] - 0s 816us/step - loss: 0.4545 - accuracy: 0.7917\n",
      "Epoch 123/150\n",
      "77/77 [==============================] - 0s 816us/step - loss: 0.4601 - accuracy: 0.7786\n",
      "Epoch 124/150\n",
      "77/77 [==============================] - 0s 816us/step - loss: 0.4550 - accuracy: 0.7969\n",
      "Epoch 125/150\n",
      "77/77 [==============================] - 0s 726us/step - loss: 0.4533 - accuracy: 0.7826\n",
      "Epoch 126/150\n",
      "77/77 [==============================] - 0s 736us/step - loss: 0.4605 - accuracy: 0.7943\n",
      "Epoch 127/150\n",
      "77/77 [==============================] - 0s 795us/step - loss: 0.4562 - accuracy: 0.7956\n",
      "Epoch 128/150\n",
      "77/77 [==============================] - 0s 784us/step - loss: 0.4602 - accuracy: 0.7786\n",
      "Epoch 129/150\n",
      "77/77 [==============================] - 0s 826us/step - loss: 0.4487 - accuracy: 0.7930\n",
      "Epoch 130/150\n",
      "77/77 [==============================] - 0s 797us/step - loss: 0.4563 - accuracy: 0.7852\n",
      "Epoch 131/150\n",
      "77/77 [==============================] - 0s 789us/step - loss: 0.4554 - accuracy: 0.7852\n",
      "Epoch 132/150\n",
      "77/77 [==============================] - 0s 805us/step - loss: 0.4618 - accuracy: 0.7708\n",
      "Epoch 133/150\n",
      "77/77 [==============================] - 0s 821us/step - loss: 0.4594 - accuracy: 0.7799\n",
      "Epoch 134/150\n",
      "77/77 [==============================] - 0s 773us/step - loss: 0.4462 - accuracy: 0.7982\n",
      "Epoch 135/150\n",
      "77/77 [==============================] - 0s 774us/step - loss: 0.4515 - accuracy: 0.8060\n",
      "Epoch 136/150\n",
      "77/77 [==============================] - 0s 708us/step - loss: 0.4510 - accuracy: 0.7904\n",
      "Epoch 137/150\n",
      "77/77 [==============================] - 0s 712us/step - loss: 0.4573 - accuracy: 0.7839\n",
      "Epoch 138/150\n",
      "77/77 [==============================] - 0s 737us/step - loss: 0.4548 - accuracy: 0.8047\n",
      "Epoch 139/150\n",
      "77/77 [==============================] - 0s 785us/step - loss: 0.4503 - accuracy: 0.7826\n",
      "Epoch 140/150\n",
      "77/77 [==============================] - 0s 819us/step - loss: 0.4509 - accuracy: 0.7773\n",
      "Epoch 141/150\n",
      "77/77 [==============================] - 0s 798us/step - loss: 0.4486 - accuracy: 0.7878\n",
      "Epoch 142/150\n",
      "77/77 [==============================] - 0s 810us/step - loss: 0.4461 - accuracy: 0.7930\n",
      "Epoch 143/150\n",
      "77/77 [==============================] - 0s 822us/step - loss: 0.4443 - accuracy: 0.7930\n",
      "Epoch 144/150\n",
      "77/77 [==============================] - 0s 851us/step - loss: 0.4461 - accuracy: 0.7891\n",
      "Epoch 145/150\n",
      "77/77 [==============================] - 0s 836us/step - loss: 0.4481 - accuracy: 0.7956\n",
      "Epoch 146/150\n",
      "77/77 [==============================] - 0s 847us/step - loss: 0.4470 - accuracy: 0.7943\n",
      "Epoch 147/150\n",
      "77/77 [==============================] - 0s 957us/step - loss: 0.4500 - accuracy: 0.7878\n",
      "Epoch 148/150\n",
      "77/77 [==============================] - 0s 781us/step - loss: 0.4550 - accuracy: 0.7865\n",
      "Epoch 149/150\n",
      "77/77 [==============================] - 0s 859us/step - loss: 0.4450 - accuracy: 0.7943\n",
      "Epoch 150/150\n",
      "77/77 [==============================] - 0s 852us/step - loss: 0.4500 - accuracy: 0.7995\n"
     ]
    },
    {
     "data": {
      "text/plain": [
       "<tensorflow.python.keras.callbacks.History at 0x1436ca160>"
      ]
     },
     "execution_count": 18,
     "metadata": {},
     "output_type": "execute_result"
    }
   ],
   "source": [
    "model.fit(X, Y, batch_size=10, epochs=150)"
   ]
  },
  {
   "cell_type": "markdown",
   "metadata": {},
   "source": [
    "# Evaluate the mode\n",
    "<hr style=\"border:2px solid black\"> </hr>"
   ]
  },
  {
   "cell_type": "code",
   "execution_count": null,
   "metadata": {},
   "outputs": [],
   "source": [
    "\"\"\"\n",
    "We have trained our neural network on the entire dataset and we can evaluate the performance \n",
    "of the network on the same dataset. This will only give us an idea of how well we have modeled\n",
    "the dataset (e.g. train accuracy), but no idea of how well the algorithm might perform on new \n",
    "data. We have done this for simplicity, but ideally, you could separate your data into train \n",
    "and test datasets for the training and evaluation of your model.\n",
    "\"\"\""
   ]
  },
  {
   "cell_type": "code",
   "execution_count": 19,
   "metadata": {},
   "outputs": [
    {
     "name": "stdout",
     "output_type": "stream",
     "text": [
      "24/24 [==============================] - 0s 749us/step - loss: 0.4404 - accuracy: 0.7865\n",
      "accuracy: 78.65%\n"
     ]
    }
   ],
   "source": [
    "scores = model.evaluate(X, Y)\n",
    "print(\"%s: %.2f%%\" % (model.metrics_names[1], scores[1]*100))"
   ]
  },
  {
   "cell_type": "markdown",
   "metadata": {},
   "source": [
    "# References\n",
    "<hr style=\"border:2px solid black\"> </hr>"
   ]
  },
  {
   "cell_type": "markdown",
   "metadata": {},
   "source": [
    "\n",
    "- https://machinelearningmastery.com/tutorial-first-neural-network-python-keras/\n",
    "\n",
""   ]
  },
  {
   "cell_type": "code",
   "execution_count": null,
   "metadata": {},
   "outputs": [],
   "source": []
  }
 ],
 "metadata": {
  "kernelspec": {
   "display_name": "trainingAI",
   "language": "python",
   "name": "trainingai"
  },
  "language_info": {
   "codemirror_mode": {
    "name": "ipython",
    "version": 3
   },
   "file_extension": ".py",
   "mimetype": "text/x-python",
   "name": "python",
   "nbconvert_exporter": "python",
   "pygments_lexer": "ipython3",
   "version": "3.8.5"
  }
 },
 "nbformat": 4,
 "nbformat_minor": 2
}
