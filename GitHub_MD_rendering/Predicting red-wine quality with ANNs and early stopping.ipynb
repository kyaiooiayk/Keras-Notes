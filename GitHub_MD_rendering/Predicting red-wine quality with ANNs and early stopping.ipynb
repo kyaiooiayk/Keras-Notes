{
 "cells": [
  {
   "cell_type": "markdown",
   "id": "9d63c62f",
   "metadata": {},
   "source": [
    "# Introduction\n",
    "<hr style = \"border:2px solid black\" ></hr>"
   ]
  },
  {
   "cell_type": "markdown",
   "id": "d975189d",
   "metadata": {},
   "source": [
    "\n",
    "**What?** Predicting red-wine quality with ANNs and early stopping\n",
    "\n",
""   ]
  },
  {
   "cell_type": "markdown",
   "id": "6fe4589c",
   "metadata": {},
   "source": [
    "# Import modules\n",
    "<hr style = \"border:2px solid black\" ></hr>"
   ]
  },
  {
   "cell_type": "code",
   "execution_count": 1,
   "id": "45545288",
   "metadata": {},
   "outputs": [],
   "source": [
    "import pandas as pd\n",
    "from IPython.display import display\n",
    "import matplotlib.pyplot as plt\n",
    "from matplotlib import rcParams\n",
    "import matplotlib as mpl\n",
    "from tensorflow import keras\n",
    "from tensorflow.keras import layers, callbacks\n",
    "\n",
    "rcParams['figure.figsize'] = 17, 8\n",
    "rcParams['font.size'] = 20"
   ]
  },
  {
   "cell_type": "markdown",
   "id": "24450577",
   "metadata": {},
   "source": [
    "# Import dataset\n",
    "<hr style = \"border:2px solid black\" ></hr>"
   ]
  },
  {
   "cell_type": "markdown",
   "id": "534902c1",
   "metadata": {
    "papermill": {
     "duration": 0.00973,
     "end_time": "2021-06-03T16:39:49.350591",
     "exception": false,
     "start_time": "2021-06-03T16:39:49.340861",
     "status": "completed"
    },
    "tags": []
   },
   "source": [
    "\n",
    "- We'll use the *Red Wine Quality* dataset.\n",
    "- This dataset consists of physiochemical measurements from about 1600 Portuguese red wines. \n",
    "- Also included is a quality rating for each wine from blind taste-tests. \n",
    "- How well can we predict a wine's perceived quality from these measurements?\n",
    "\n",
""   ]
  },
  {
   "cell_type": "code",
   "execution_count": 2,
   "id": "30dd1860",
   "metadata": {
    "_kg_hide-input": true,
    "execution": {
     "iopub.execute_input": "2021-06-03T16:39:49.379667Z",
     "iopub.status.busy": "2021-06-03T16:39:49.379021Z",
     "iopub.status.idle": "2021-06-03T16:39:49.466509Z",
     "shell.execute_reply": "2021-06-03T16:39:49.465703Z"
    },
    "lines_to_next_cell": 0,
    "papermill": {
     "duration": 0.106036,
     "end_time": "2021-06-03T16:39:49.466672",
     "exception": false,
     "start_time": "2021-06-03T16:39:49.360636",
     "status": "completed"
    },
    "tags": []
   },
   "outputs": [
    {
     "data": {
      "text/html": [
       "<style scoped>\n",
       "    .dataframe tbody tr th:only-of-type {\n",
       "        vertical-align: middle;\n",
       "    }\n",
       "\n",
       "    .dataframe tbody tr th {\n",
       "        vertical-align: top;\n",
       "    }\n",
       "\n",
       "    .dataframe thead th {\n",
       "        text-align: right;\n",
       "    }\n",
       "</style>\n",
       "<table border=\"1\" class=\"dataframe\">\n",
       "  <thead>\n",
       "    <tr style=\"text-align: right;\">\n",
       "      <th></th>\n",
       "      <th>fixed acidity</th>\n",
       "      <th>volatile acidity</th>\n",
       "      <th>citric acid</th>\n",
       "      <th>residual sugar</th>\n",
       "      <th>chlorides</th>\n",
       "      <th>free sulfur dioxide</th>\n",
       "      <th>total sulfur dioxide</th>\n",
       "      <th>density</th>\n",
       "      <th>pH</th>\n",
       "      <th>sulphates</th>\n",
       "      <th>alcohol</th>\n",
       "      <th>quality</th>\n",
       "    </tr>\n",
       "  </thead>\n",
       "  <tbody>\n",
       "    <tr>\n",
       "      <th>1109</th>\n",
       "      <td>10.8</td>\n",
       "      <td>0.470</td>\n",
       "      <td>0.43</td>\n",
       "      <td>2.10</td>\n",
       "      <td>0.171</td>\n",
       "      <td>27.0</td>\n",
       "      <td>66.0</td>\n",
       "      <td>0.99820</td>\n",
       "      <td>3.17</td>\n",
       "      <td>0.76</td>\n",
       "      <td>10.8</td>\n",
       "      <td>6</td>\n",
       "    </tr>\n",
       "    <tr>\n",
       "      <th>1032</th>\n",
       "      <td>8.1</td>\n",
       "      <td>0.820</td>\n",
       "      <td>0.00</td>\n",
       "      <td>4.10</td>\n",
       "      <td>0.095</td>\n",
       "      <td>5.0</td>\n",
       "      <td>14.0</td>\n",
       "      <td>0.99854</td>\n",
       "      <td>3.36</td>\n",
       "      <td>0.53</td>\n",
       "      <td>9.6</td>\n",
       "      <td>5</td>\n",
       "    </tr>\n",
       "    <tr>\n",
       "      <th>1002</th>\n",
       "      <td>9.1</td>\n",
       "      <td>0.290</td>\n",
       "      <td>0.33</td>\n",
       "      <td>2.05</td>\n",
       "      <td>0.063</td>\n",
       "      <td>13.0</td>\n",
       "      <td>27.0</td>\n",
       "      <td>0.99516</td>\n",
       "      <td>3.26</td>\n",
       "      <td>0.84</td>\n",
       "      <td>11.7</td>\n",
       "      <td>7</td>\n",
       "    </tr>\n",
       "    <tr>\n",
       "      <th>487</th>\n",
       "      <td>10.2</td>\n",
       "      <td>0.645</td>\n",
       "      <td>0.36</td>\n",
       "      <td>1.80</td>\n",
       "      <td>0.053</td>\n",
       "      <td>5.0</td>\n",
       "      <td>14.0</td>\n",
       "      <td>0.99820</td>\n",
       "      <td>3.17</td>\n",
       "      <td>0.42</td>\n",
       "      <td>10.0</td>\n",
       "      <td>6</td>\n",
       "    </tr>\n",
       "  </tbody>\n",
       "</table>\n",
""      ],
      "text/plain": [
       "      fixed acidity  volatile acidity  citric acid  residual sugar  chlorides  \\\n",
       "1109           10.8             0.470         0.43            2.10      0.171   \n",
       "1032            8.1             0.820         0.00            4.10      0.095   \n",
       "1002            9.1             0.290         0.33            2.05      0.063   \n",
       "487            10.2             0.645         0.36            1.80      0.053   \n",
       "\n",
       "      free sulfur dioxide  total sulfur dioxide  density    pH  sulphates  \\\n",
       "1109                 27.0                  66.0  0.99820  3.17       0.76   \n",
       "1032                  5.0                  14.0  0.99854  3.36       0.53   \n",
       "1002                 13.0                  27.0  0.99516  3.26       0.84   \n",
       "487                   5.0                  14.0  0.99820  3.17       0.42   \n",
       "\n",
       "      alcohol  quality  \n",
       "1109     10.8        6  \n",
       "1032      9.6        5  \n",
       "1002     11.7        7  \n",
       "487      10.0        6  "
      ]
     },
     "metadata": {},
     "output_type": "display_data"
    }
   ],
   "source": [
    "red_wine = pd.read_csv('../DATASETS/winequality-red.csv')\n",
    "\n",
    "# Create training and validation splits\n",
    "df_train = red_wine.sample(frac=0.7, random_state=0)\n",
    "df_valid = red_wine.drop(df_train.index)\n",
    "display(df_train.head(4))\n",
    "\n",
    "# Scale to [0, 1]\n",
    "max_ = df_train.max(axis=0)\n",
    "min_ = df_train.min(axis=0)\n",
    "df_train = (df_train - min_) / (max_ - min_)\n",
    "df_valid = (df_valid - min_) / (max_ - min_)\n",
    "\n",
    "# Split features and target\n",
    "X_train = df_train.drop('quality', axis=1)\n",
    "X_valid = df_valid.drop('quality', axis=1)\n",
    "y_train = df_train['quality']\n",
    "y_valid = df_valid['quality']"
   ]
  },
  {
   "cell_type": "code",
   "execution_count": 3,
   "id": "d9ce117e",
   "metadata": {
    "execution": {
     "iopub.execute_input": "2021-06-03T16:39:49.515257Z",
     "iopub.status.busy": "2021-06-03T16:39:49.514598Z",
     "iopub.status.idle": "2021-06-03T16:39:49.520518Z",
     "shell.execute_reply": "2021-06-03T16:39:49.519796Z"
    },
    "lines_to_next_cell": 2,
    "papermill": {
     "duration": 0.020093,
     "end_time": "2021-06-03T16:39:49.520659",
     "exception": false,
     "start_time": "2021-06-03T16:39:49.500566",
     "status": "completed"
    },
    "tags": []
   },
   "outputs": [
    {
     "name": "stdout",
     "output_type": "stream",
     "text": [
      "(1119, 11)\n"
     ]
    }
   ],
   "source": [
    "print(X_train.shape)"
   ]
  },
  {
   "cell_type": "markdown",
   "id": "1b73eda1",
   "metadata": {},
   "source": [
    "# Building the ANNs\n",
    "<hr style = \"border:2px solid black\" ></hr>"
   ]
  },
  {
   "cell_type": "markdown",
   "id": "1e4667fb",
   "metadata": {},
   "source": [
    "\n",
    "- We've chosen a three-layer network with over 1500 neurons. \n",
    "- This network should be capable of learning fairly complex relationships in the data. \n",
    "\n",
""   ]
  },
  {
   "cell_type": "code",
   "execution_count": 4,
   "id": "6106382d",
   "metadata": {
    "execution": {
     "iopub.execute_input": "2021-06-03T16:39:49.573159Z",
     "iopub.status.busy": "2021-06-03T16:39:49.572388Z",
     "iopub.status.idle": "2021-06-03T16:39:55.292738Z",
     "shell.execute_reply": "2021-06-03T16:39:55.292052Z"
    },
    "papermill": {
     "duration": 5.737616,
     "end_time": "2021-06-03T16:39:55.292879",
     "exception": false,
     "start_time": "2021-06-03T16:39:49.555263",
     "status": "completed"
    },
    "tags": []
   },
   "outputs": [],
   "source": [
    "model = keras.Sequential([\n",
    "    layers.Dense(512, activation='relu', input_shape=[11]),\n",
    "    layers.Dense(512, activation='relu'),\n",
    "    layers.Dense(512, activation='relu'),\n",
    "    layers.Dense(1),\n",
    "])"
   ]
  },
  {
   "cell_type": "code",
   "execution_count": 5,
   "id": "a01778f8",
   "metadata": {
    "execution": {
     "iopub.execute_input": "2021-06-03T16:39:55.351152Z",
     "iopub.status.busy": "2021-06-03T16:39:55.343003Z",
     "iopub.status.idle": "2021-06-03T16:39:55.357770Z",
     "shell.execute_reply": "2021-06-03T16:39:55.358262Z"
    },
    "papermill": {
     "duration": 0.031809,
     "end_time": "2021-06-03T16:39:55.358442",
     "exception": false,
     "start_time": "2021-06-03T16:39:55.326633",
     "status": "completed"
    },
    "tags": []
   },
   "outputs": [],
   "source": [
    "model.compile(\n",
    "    optimizer='adam',\n",
    "    loss='mae',\n",
    ")"
   ]
  },
  {
   "cell_type": "code",
   "execution_count": 6,
   "id": "a325c900",
   "metadata": {},
   "outputs": [],
   "source": [
    "early_stopping = callbacks.EarlyStopping(\n",
    "    # Minimium amount of change to count as an improvement\n",
    "    min_delta=0.001, \n",
    "    # How many epochs to wait before stopping\n",
    "    patience = 50, \n",
    "    restore_best_weights=True,\n",
    ")"
   ]
  },
  {
   "cell_type": "markdown",
   "id": "e0bfb958",
   "metadata": {},
   "source": [
    "\n",
    "- We'll feed the optimizer 256 rows of the training data at a time (the batch_size) and to do that 10 times all the way through the dataset (the epochs).\n",
    "\n",
""   ]
  },
  {
   "cell_type": "code",
   "execution_count": 7,
   "id": "0f831127",
   "metadata": {
    "execution": {
     "iopub.execute_input": "2021-06-03T16:39:55.410503Z",
     "iopub.status.busy": "2021-06-03T16:39:55.409480Z",
     "iopub.status.idle": "2021-06-03T16:39:57.654723Z",
     "shell.execute_reply": "2021-06-03T16:39:57.654136Z"
    },
    "papermill": {
     "duration": 2.26011,
     "end_time": "2021-06-03T16:39:57.654875",
     "exception": false,
     "start_time": "2021-06-03T16:39:55.394765",
     "status": "completed"
    },
    "scrolled": true,
    "tags": []
   },
   "outputs": [
    {
     "name": "stdout",
     "output_type": "stream",
     "text": [
      "Epoch 1/500\n",
      "5/5 [==============================] - 1s 46ms/step - loss: 0.2738 - val_loss: 0.1368\n",
      "Epoch 2/500\n",
      "5/5 [==============================] - 0s 12ms/step - loss: 0.1343 - val_loss: 0.1236\n",
      "Epoch 3/500\n",
      "5/5 [==============================] - 0s 12ms/step - loss: 0.1244 - val_loss: 0.1210\n",
      "Epoch 4/500\n",
      "5/5 [==============================] - 0s 12ms/step - loss: 0.1144 - val_loss: 0.1065\n",
      "Epoch 5/500\n",
      "5/5 [==============================] - 0s 12ms/step - loss: 0.1093 - val_loss: 0.1037\n",
      "Epoch 6/500\n",
      "5/5 [==============================] - 0s 12ms/step - loss: 0.1068 - val_loss: 0.1101\n",
      "Epoch 7/500\n",
      "5/5 [==============================] - 0s 12ms/step - loss: 0.1046 - val_loss: 0.1010\n",
      "Epoch 8/500\n",
      "5/5 [==============================] - 0s 12ms/step - loss: 0.1019 - val_loss: 0.1061\n",
      "Epoch 9/500\n",
      "5/5 [==============================] - 0s 12ms/step - loss: 0.1022 - val_loss: 0.1006\n",
      "Epoch 10/500\n",
      "5/5 [==============================] - 0s 12ms/step - loss: 0.1006 - val_loss: 0.1002\n",
      "Epoch 11/500\n",
      "5/5 [==============================] - 0s 13ms/step - loss: 0.0990 - val_loss: 0.1006\n",
      "Epoch 12/500\n",
      "5/5 [==============================] - 0s 13ms/step - loss: 0.0974 - val_loss: 0.1149\n",
      "Epoch 13/500\n",
      "5/5 [==============================] - 0s 13ms/step - loss: 0.1047 - val_loss: 0.0979\n",
      "Epoch 14/500\n",
      "5/5 [==============================] - 0s 15ms/step - loss: 0.0994 - val_loss: 0.1004\n",
      "Epoch 15/500\n",
      "5/5 [==============================] - 0s 12ms/step - loss: 0.1010 - val_loss: 0.1014\n",
      "Epoch 16/500\n",
      "5/5 [==============================] - 0s 12ms/step - loss: 0.0951 - val_loss: 0.0966\n",
      "Epoch 17/500\n",
      "5/5 [==============================] - 0s 12ms/step - loss: 0.0943 - val_loss: 0.0963\n",
      "Epoch 18/500\n",
      "5/5 [==============================] - 0s 13ms/step - loss: 0.0935 - val_loss: 0.0971\n",
      "Epoch 19/500\n",
      "5/5 [==============================] - 0s 12ms/step - loss: 0.0922 - val_loss: 0.1009\n",
      "Epoch 20/500\n",
      "5/5 [==============================] - 0s 11ms/step - loss: 0.0919 - val_loss: 0.0959\n",
      "Epoch 21/500\n",
      "5/5 [==============================] - 0s 12ms/step - loss: 0.0909 - val_loss: 0.0945\n",
      "Epoch 22/500\n",
      "5/5 [==============================] - 0s 11ms/step - loss: 0.0920 - val_loss: 0.0953\n",
      "Epoch 23/500\n",
      "5/5 [==============================] - 0s 11ms/step - loss: 0.0917 - val_loss: 0.1021\n",
      "Epoch 24/500\n",
      "5/5 [==============================] - 0s 11ms/step - loss: 0.0945 - val_loss: 0.0945\n",
      "Epoch 25/500\n",
      "5/5 [==============================] - 0s 11ms/step - loss: 0.0905 - val_loss: 0.0952\n",
      "Epoch 26/500\n",
      "5/5 [==============================] - 0s 12ms/step - loss: 0.0903 - val_loss: 0.0935\n",
      "Epoch 27/500\n",
      "5/5 [==============================] - 0s 11ms/step - loss: 0.0907 - val_loss: 0.0965\n",
      "Epoch 28/500\n",
      "5/5 [==============================] - 0s 12ms/step - loss: 0.0907 - val_loss: 0.0989\n",
      "Epoch 29/500\n",
      "5/5 [==============================] - 0s 12ms/step - loss: 0.0879 - val_loss: 0.0995\n",
      "Epoch 30/500\n",
      "5/5 [==============================] - 0s 12ms/step - loss: 0.0874 - val_loss: 0.0978\n",
      "Epoch 31/500\n",
      "5/5 [==============================] - 0s 12ms/step - loss: 0.0856 - val_loss: 0.0934\n",
      "Epoch 32/500\n",
      "5/5 [==============================] - 0s 11ms/step - loss: 0.0851 - val_loss: 0.0933\n",
      "Epoch 33/500\n",
      "5/5 [==============================] - 0s 12ms/step - loss: 0.0844 - val_loss: 0.0937\n",
      "Epoch 34/500\n",
      "5/5 [==============================] - 0s 12ms/step - loss: 0.0842 - val_loss: 0.0953\n",
      "Epoch 35/500\n",
      "5/5 [==============================] - 0s 12ms/step - loss: 0.0845 - val_loss: 0.0942\n",
      "Epoch 36/500\n",
      "5/5 [==============================] - 0s 12ms/step - loss: 0.0833 - val_loss: 0.0954\n",
      "Epoch 37/500\n",
      "5/5 [==============================] - 0s 12ms/step - loss: 0.0828 - val_loss: 0.0932\n",
      "Epoch 38/500\n",
      "5/5 [==============================] - 0s 12ms/step - loss: 0.0819 - val_loss: 0.0939\n",
      "Epoch 39/500\n",
      "5/5 [==============================] - 0s 12ms/step - loss: 0.0818 - val_loss: 0.0937\n",
      "Epoch 40/500\n",
      "5/5 [==============================] - 0s 12ms/step - loss: 0.0813 - val_loss: 0.0948\n",
      "Epoch 41/500\n",
      "5/5 [==============================] - 0s 11ms/step - loss: 0.0810 - val_loss: 0.0926\n",
      "Epoch 42/500\n",
      "5/5 [==============================] - 0s 11ms/step - loss: 0.0811 - val_loss: 0.0959\n",
      "Epoch 43/500\n",
      "5/5 [==============================] - 0s 11ms/step - loss: 0.0820 - val_loss: 0.0940\n",
      "Epoch 44/500\n",
      "5/5 [==============================] - 0s 11ms/step - loss: 0.0796 - val_loss: 0.0941\n",
      "Epoch 45/500\n",
      "5/5 [==============================] - 0s 12ms/step - loss: 0.0805 - val_loss: 0.0978\n",
      "Epoch 46/500\n",
      "5/5 [==============================] - 0s 11ms/step - loss: 0.0889 - val_loss: 0.0980\n",
      "Epoch 47/500\n",
      "5/5 [==============================] - 0s 11ms/step - loss: 0.0848 - val_loss: 0.1012\n",
      "Epoch 48/500\n",
      "5/5 [==============================] - 0s 12ms/step - loss: 0.0882 - val_loss: 0.0976\n",
      "Epoch 49/500\n",
      "5/5 [==============================] - 0s 12ms/step - loss: 0.0833 - val_loss: 0.0933\n",
      "Epoch 50/500\n",
      "5/5 [==============================] - 0s 12ms/step - loss: 0.0782 - val_loss: 0.0925\n",
      "Epoch 51/500\n",
      "5/5 [==============================] - 0s 12ms/step - loss: 0.0776 - val_loss: 0.0924\n",
      "Epoch 52/500\n",
      "5/5 [==============================] - 0s 12ms/step - loss: 0.0773 - val_loss: 0.0935\n",
      "Epoch 53/500\n",
      "5/5 [==============================] - 0s 12ms/step - loss: 0.0761 - val_loss: 0.0928\n",
      "Epoch 54/500\n",
      "5/5 [==============================] - 0s 12ms/step - loss: 0.0752 - val_loss: 0.0954\n",
      "Epoch 55/500\n",
      "5/5 [==============================] - 0s 13ms/step - loss: 0.0761 - val_loss: 0.0943\n",
      "Epoch 56/500\n",
      "5/5 [==============================] - 0s 12ms/step - loss: 0.0751 - val_loss: 0.0921\n",
      "Epoch 57/500\n",
      "5/5 [==============================] - 0s 11ms/step - loss: 0.0761 - val_loss: 0.0977\n",
      "Epoch 58/500\n",
      "5/5 [==============================] - 0s 12ms/step - loss: 0.0786 - val_loss: 0.0931\n",
      "Epoch 59/500\n",
      "5/5 [==============================] - 0s 12ms/step - loss: 0.0760 - val_loss: 0.0943\n",
      "Epoch 60/500\n",
      "5/5 [==============================] - 0s 12ms/step - loss: 0.0773 - val_loss: 0.0950\n",
      "Epoch 61/500\n",
      "5/5 [==============================] - 0s 12ms/step - loss: 0.0782 - val_loss: 0.0945\n",
      "Epoch 62/500\n",
      "5/5 [==============================] - 0s 11ms/step - loss: 0.0791 - val_loss: 0.0968\n",
      "Epoch 63/500\n",
      "5/5 [==============================] - 0s 12ms/step - loss: 0.0781 - val_loss: 0.0960\n",
      "Epoch 64/500\n",
      "5/5 [==============================] - 0s 13ms/step - loss: 0.0749 - val_loss: 0.0925\n",
      "Epoch 65/500\n",
      "5/5 [==============================] - 0s 12ms/step - loss: 0.0739 - val_loss: 0.0907\n",
      "Epoch 66/500\n",
      "5/5 [==============================] - 0s 12ms/step - loss: 0.0730 - val_loss: 0.0942\n",
      "Epoch 67/500\n",
      "5/5 [==============================] - 0s 13ms/step - loss: 0.0737 - val_loss: 0.0956\n",
      "Epoch 68/500\n",
      "5/5 [==============================] - 0s 13ms/step - loss: 0.0726 - val_loss: 0.0928\n",
      "Epoch 69/500\n",
      "5/5 [==============================] - 0s 12ms/step - loss: 0.0732 - val_loss: 0.0983\n",
      "Epoch 70/500\n",
      "5/5 [==============================] - 0s 13ms/step - loss: 0.0746 - val_loss: 0.0974\n",
      "Epoch 71/500\n",
      "5/5 [==============================] - 0s 13ms/step - loss: 0.0747 - val_loss: 0.0949\n",
      "Epoch 72/500\n",
      "5/5 [==============================] - 0s 12ms/step - loss: 0.0794 - val_loss: 0.0930\n",
      "Epoch 73/500\n",
      "5/5 [==============================] - 0s 13ms/step - loss: 0.0768 - val_loss: 0.0935\n",
      "Epoch 74/500\n",
      "5/5 [==============================] - 0s 12ms/step - loss: 0.0752 - val_loss: 0.0935\n",
      "Epoch 75/500\n",
      "5/5 [==============================] - 0s 12ms/step - loss: 0.0717 - val_loss: 0.0927\n",
      "Epoch 76/500\n",
      "5/5 [==============================] - 0s 12ms/step - loss: 0.0701 - val_loss: 0.0987\n",
      "Epoch 77/500\n",
      "5/5 [==============================] - 0s 13ms/step - loss: 0.0718 - val_loss: 0.0967\n",
      "Epoch 78/500\n",
      "5/5 [==============================] - 0s 12ms/step - loss: 0.0717 - val_loss: 0.0975\n",
      "Epoch 79/500\n",
      "5/5 [==============================] - 0s 12ms/step - loss: 0.0711 - val_loss: 0.0951\n",
      "Epoch 80/500\n",
      "5/5 [==============================] - 0s 12ms/step - loss: 0.0738 - val_loss: 0.0952\n",
      "Epoch 81/500\n",
      "5/5 [==============================] - 0s 12ms/step - loss: 0.0742 - val_loss: 0.0976\n",
      "Epoch 82/500\n",
      "5/5 [==============================] - 0s 12ms/step - loss: 0.0762 - val_loss: 0.0956\n",
      "Epoch 83/500\n",
      "5/5 [==============================] - 0s 12ms/step - loss: 0.0746 - val_loss: 0.0965\n"
     ]
    },
    {
     "name": "stdout",
     "output_type": "stream",
     "text": [
      "Epoch 84/500\n",
      "5/5 [==============================] - 0s 12ms/step - loss: 0.0751 - val_loss: 0.0925\n",
      "Epoch 85/500\n",
      "5/5 [==============================] - 0s 12ms/step - loss: 0.0698 - val_loss: 0.0941\n",
      "Epoch 86/500\n",
      "5/5 [==============================] - 0s 12ms/step - loss: 0.0683 - val_loss: 0.0933\n",
      "Epoch 87/500\n",
      "5/5 [==============================] - 0s 12ms/step - loss: 0.0704 - val_loss: 0.0923\n",
      "Epoch 88/500\n",
      "5/5 [==============================] - 0s 11ms/step - loss: 0.0683 - val_loss: 0.0925\n",
      "Epoch 89/500\n",
      "5/5 [==============================] - 0s 11ms/step - loss: 0.0664 - val_loss: 0.0944\n",
      "Epoch 90/500\n",
      "5/5 [==============================] - 0s 11ms/step - loss: 0.0661 - val_loss: 0.0955\n",
      "Epoch 91/500\n",
      "5/5 [==============================] - 0s 11ms/step - loss: 0.0656 - val_loss: 0.0923\n",
      "Epoch 92/500\n",
      "5/5 [==============================] - 0s 11ms/step - loss: 0.0641 - val_loss: 0.0945\n",
      "Epoch 93/500\n",
      "5/5 [==============================] - 0s 11ms/step - loss: 0.0659 - val_loss: 0.0948\n",
      "Epoch 94/500\n",
      "5/5 [==============================] - 0s 12ms/step - loss: 0.0660 - val_loss: 0.0946\n",
      "Epoch 95/500\n",
      "5/5 [==============================] - 0s 13ms/step - loss: 0.0657 - val_loss: 0.0939\n",
      "Epoch 96/500\n",
      "5/5 [==============================] - 0s 12ms/step - loss: 0.0682 - val_loss: 0.1020\n",
      "Epoch 97/500\n",
      "5/5 [==============================] - 0s 12ms/step - loss: 0.0738 - val_loss: 0.0964\n",
      "Epoch 98/500\n",
      "5/5 [==============================] - 0s 12ms/step - loss: 0.0657 - val_loss: 0.0968\n",
      "Epoch 99/500\n",
      "5/5 [==============================] - 0s 12ms/step - loss: 0.0637 - val_loss: 0.0938\n",
      "Epoch 100/500\n",
      "5/5 [==============================] - 0s 12ms/step - loss: 0.0615 - val_loss: 0.0930\n",
      "Epoch 101/500\n",
      "5/5 [==============================] - 0s 12ms/step - loss: 0.0633 - val_loss: 0.0989\n",
      "Epoch 102/500\n",
      "5/5 [==============================] - 0s 12ms/step - loss: 0.0730 - val_loss: 0.0971\n",
      "Epoch 103/500\n",
      "5/5 [==============================] - 0s 12ms/step - loss: 0.0721 - val_loss: 0.0921\n",
      "Epoch 104/500\n",
      "5/5 [==============================] - 0s 11ms/step - loss: 0.0634 - val_loss: 0.0939\n",
      "Epoch 105/500\n",
      "5/5 [==============================] - 0s 12ms/step - loss: 0.0623 - val_loss: 0.0913\n",
      "Epoch 106/500\n",
      "5/5 [==============================] - 0s 12ms/step - loss: 0.0609 - val_loss: 0.0946\n",
      "Epoch 107/500\n",
      "5/5 [==============================] - 0s 12ms/step - loss: 0.0616 - val_loss: 0.0987\n",
      "Epoch 108/500\n",
      "5/5 [==============================] - 0s 11ms/step - loss: 0.0673 - val_loss: 0.1108\n",
      "Epoch 109/500\n",
      "5/5 [==============================] - 0s 11ms/step - loss: 0.0718 - val_loss: 0.1070\n",
      "Epoch 110/500\n",
      "5/5 [==============================] - 0s 12ms/step - loss: 0.0711 - val_loss: 0.0967\n",
      "Epoch 111/500\n",
      "5/5 [==============================] - 0s 11ms/step - loss: 0.0638 - val_loss: 0.0933\n",
      "Epoch 112/500\n",
      "5/5 [==============================] - 0s 11ms/step - loss: 0.0612 - val_loss: 0.0942\n",
      "Epoch 113/500\n",
      "5/5 [==============================] - 0s 11ms/step - loss: 0.0629 - val_loss: 0.0945\n",
      "Epoch 114/500\n",
      "5/5 [==============================] - 0s 11ms/step - loss: 0.0617 - val_loss: 0.0933\n",
      "Epoch 115/500\n",
      "5/5 [==============================] - 0s 11ms/step - loss: 0.0583 - val_loss: 0.0929\n"
     ]
    }
   ],
   "source": [
    "history = model.fit(\n",
    "    X_train, y_train,\n",
    "    validation_data=(X_valid, y_valid),\n",
    "    batch_size = 256,\n",
    "    epochs = 500,\n",
    "    callbacks = [early_stopping],\n",
    "    verbose = 1,  \n",
    ")"
   ]
  },
  {
   "cell_type": "code",
   "execution_count": 8,
   "id": "81633275",
   "metadata": {
    "execution": {
     "iopub.execute_input": "2021-06-03T16:39:57.733848Z",
     "iopub.status.busy": "2021-06-03T16:39:57.733080Z",
     "iopub.status.idle": "2021-06-03T16:39:57.920929Z",
     "shell.execute_reply": "2021-06-03T16:39:57.921401Z"
    },
    "lines_to_next_cell": 2,
    "papermill": {
     "duration": 0.212211,
     "end_time": "2021-06-03T16:39:57.921573",
     "exception": false,
     "start_time": "2021-06-03T16:39:57.709362",
     "status": "completed"
    },
    "tags": []
   },
   "outputs": [
    {
     "name": "stdout",
     "output_type": "stream",
     "text": [
      "Minimum validation loss: 0.09073387831449509\n"
     ]
    },
    {
     "data": {
      "image/png": "[encoded data removed]",
      "text/plain": [
       "<Figure size 1224x576 with 1 Axes>"
      ]
     },
     "metadata": {
      "needs_background": "light"
     },
     "output_type": "display_data"
    }
   ],
   "source": [
    "# Convert the training history to a dataframe and plot\n",
    "history_df = pd.DataFrame(history.history)\n",
    "history_df.loc[:, ['loss', 'val_loss']].plot();\n",
    "print(\"Minimum validation loss: {}\".format(history_df['val_loss'].min()))"
   ]
  },
  {
   "cell_type": "markdown",
   "id": "b2e76173",
   "metadata": {},
   "source": [
    "\n",
    "- Notice how the loss levels off as the epochs go by. \n",
    "- When the loss curve becomes horizontal like that, it means the model has learned all it can and there would be no reason continue for additional epochs.\n",
    "- Please note that if we did not use early stopping the model would have gone all the way to 500 probably overfitting.\n",
    "\n",
""   ]
  },
  {
   "cell_type": "markdown",
   "id": "f9a1b2c2",
   "metadata": {},
   "source": [
    "# References\n",
    "<hr style = \"border:2px solid black\" ></hr>"
   ]
  },
  {
   "cell_type": "markdown",
   "id": "32f8cfa1",
   "metadata": {},
   "source": [
    "\n",
    "- https://www.kaggle.com/ryanholbrook/stochastic-gradient-descent\n",
    "\n",
""   ]
  },
  {
   "cell_type": "code",
   "execution_count": null,
   "id": "2b62f681",
   "metadata": {},
   "outputs": [],
   "source": []
  }
 ],
 "metadata": {
  "jupytext": {
   "cell_metadata_filter": "-all",
   "formats": "ipynb"
  },
  "kernelspec": {
   "display_name": "trainingAI",
   "language": "python",
   "name": "trainingai"
  },
  "language_info": {
   "codemirror_mode": {
    "name": "ipython",
    "version": 3
   },
   "file_extension": ".py",
   "mimetype": "text/x-python",
   "name": "python",
   "nbconvert_exporter": "python",
   "pygments_lexer": "ipython3",
   "version": "3.9.7"
  },
  "papermill": {
   "default_parameters": {},
   "duration": 15.83577,
   "end_time": "2021-06-03T16:39:59.065293",
   "environment_variables": {},
   "exception": null,
   "input_path": "__notebook__.ipynb",
   "output_path": "__notebook__.ipynb",
   "parameters": {},
   "start_time": "2021-06-03T16:39:43.229523",
   "version": "2.3.2"
  },
  "toc": {
   "base_numbering": 1,
   "nav_menu": {},
   "number_sections": true,
   "sideBar": true,
   "skip_h1_title": false,
   "title_cell": "Table of Contents",
   "title_sidebar": "Contents",
   "toc_cell": false,
   "toc_position": {},
   "toc_section_display": true,
   "toc_window_display": false
  },
  "varInspector": {
   "cols": {
    "lenName": 16,
    "lenType": 16,
    "lenVar": 40
   },
   "kernels_config": {
    "python": {
     "delete_cmd_postfix": "",
     "delete_cmd_prefix": "del ",
     "library": "var_list.py",
     "varRefreshCmd": "print(var_dic_list())"
    },
    "r": {
     "delete_cmd_postfix": ") ",
     "delete_cmd_prefix": "rm(",
     "library": "var_list.r",
     "varRefreshCmd": "cat(var_dic_list()) "
    }
   },
   "types_to_exclude": [
    "module",
    "function",
    "builtin_function_or_method",
    "instance",
    "_Feature"
   ],
   "window_display": false
  }
 },
 "nbformat": 4,
 "nbformat_minor": 5
}
