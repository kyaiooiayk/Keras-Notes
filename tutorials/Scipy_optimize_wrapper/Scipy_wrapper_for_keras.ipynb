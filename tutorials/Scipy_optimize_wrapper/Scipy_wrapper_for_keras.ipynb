{
 "cells": [
  {
   "cell_type": "markdown",
   "id": "b5c002ed",
   "metadata": {
    "toc": true
   },
   "source": [
    "<h1>Table of Contents<span class=\"tocSkip\"></span></h1>\n",
    "<div class=\"toc\"><ul class=\"toc-item\"><li><span><a href=\"#Introduction\" data-toc-modified-id=\"Introduction-1\"><span class=\"toc-item-num\">1&nbsp;&nbsp;</span>Introduction</a></span></li><li><span><a href=\"#When-can-be-used?\" data-toc-modified-id=\"When-can-be-used?-2\"><span class=\"toc-item-num\">2&nbsp;&nbsp;</span>When can be used?</a></span></li><li><span><a href=\"#Imports\" data-toc-modified-id=\"Imports-3\"><span class=\"toc-item-num\">3&nbsp;&nbsp;</span>Imports</a></span></li><li><span><a href=\"#Generate-synthetic-data\" data-toc-modified-id=\"Generate-synthetic-data-4\"><span class=\"toc-item-num\">4&nbsp;&nbsp;</span>Generate synthetic data</a></span></li><li><span><a href=\"#Linear-regression-via-stochastic-gradient\" data-toc-modified-id=\"Linear-regression-via-stochastic-gradient-5\"><span class=\"toc-item-num\">5&nbsp;&nbsp;</span>Linear regression via stochastic gradient</a></span></li><li><span><a href=\"#Linear-regression-via-non-stochastic-gradient\" data-toc-modified-id=\"Linear-regression-via-non-stochastic-gradient-6\"><span class=\"toc-item-num\">6&nbsp;&nbsp;</span>Linear regression via non-stochastic gradient</a></span></li><li><span><a href=\"#References\" data-toc-modified-id=\"References-7\"><span class=\"toc-item-num\">7&nbsp;&nbsp;</span>References</a></span></li></ul></div>"
   ]
  },
  {
   "cell_type": "markdown",
   "id": "73be9fe9",
   "metadata": {},
   "source": [
    "# Introduction\n",
    "<hr style = \"border:2px solid black\" ></hr>"
   ]
  },
  {
   "cell_type": "markdown",
   "id": "06c4fec2",
   "metadata": {},
   "source": [
    "<div class=\"alert alert-warning\">\n",
    "<font color=black>\n",
    "\n",
    "**What?** A wrapper around scipy optimise callable by keras\n",
    "\n",
    "</font>\n",
    "</div>"
   ]
  },
  {
   "cell_type": "markdown",
   "id": "ac9e3a6f",
   "metadata": {},
   "source": [
    "# When can be used?\n",
    "<hr style = \"border:2px solid black\" ></hr>"
   ]
  },
  {
   "cell_type": "markdown",
   "id": "7fe5e87b",
   "metadata": {},
   "source": [
    "<div class=\"alert alert-info\">\n",
    "<font color=black>\n",
    "\n",
    "\n",
    "- It is used to run **full batch** optimization rather than mini-batch stochastic gradient descent. \n",
    "- It is applicable to factorization of very sparse matrices where stochastic gradient descent is not able to converge.\n",
    "\n",
    "</font>\n",
    "</div>"
   ]
  },
  {
   "cell_type": "markdown",
   "id": "63ab5be5",
   "metadata": {},
   "source": [
    "# Imports\n",
    "<hr style = \"border:2px solid black\" ></hr>"
   ]
  },
  {
   "cell_type": "code",
   "execution_count": 1,
   "id": "b8583117",
   "metadata": {
    "ExecuteTime": {
     "end_time": "2022-10-18T10:15:52.619835Z",
     "start_time": "2022-10-18T10:15:45.809702Z"
    }
   },
   "outputs": [],
   "source": [
    "from keras_opt import scipy_optimizer\n",
    "from tensorflow.keras.models import Sequential\n",
    "from tensorflow.keras.layers import Dense, InputLayer\n",
    "import numpy as np"
   ]
  },
  {
   "cell_type": "markdown",
   "id": "5c5205bb",
   "metadata": {},
   "source": [
    "# Generate synthetic data\n",
    "<hr style = \"border:2px solid black\" ></hr>"
   ]
  },
  {
   "cell_type": "markdown",
   "id": "c7672e20",
   "metadata": {},
   "source": [
    "<div class=\"alert alert-info\">\n",
    "<font color=black>\n",
    "\n",
    "- Let's consider this linear system: `Ax=y`\n",
    "- Our goal would be to find the weights hence x.\n",
    "\n",
    "</font>\n",
    "</div>"
   ]
  },
  {
   "cell_type": "code",
   "execution_count": 7,
   "id": "12a1e212",
   "metadata": {
    "ExecuteTime": {
     "end_time": "2022-10-18T10:17:57.176927Z",
     "start_time": "2022-10-18T10:17:57.173346Z"
    }
   },
   "outputs": [],
   "source": [
    "np.random.seed(42)\n",
    "X = np.random.uniform(size=40).reshape(10, 4)\n",
    "y = np.dot(X, np.array([1, 2, 3, 4])[:, np.newaxis])"
   ]
  },
  {
   "cell_type": "code",
   "execution_count": 10,
   "id": "1bff6b22",
   "metadata": {
    "ExecuteTime": {
     "end_time": "2022-10-18T10:18:07.555964Z",
     "start_time": "2022-10-18T10:18:07.552352Z"
    }
   },
   "outputs": [
    {
     "data": {
      "text/plain": [
       "(10, 4)"
      ]
     },
     "execution_count": 10,
     "metadata": {},
     "output_type": "execute_result"
    }
   ],
   "source": [
    "X.shape"
   ]
  },
  {
   "cell_type": "markdown",
   "id": "8851a956",
   "metadata": {},
   "source": [
    "# Linear regression via stochastic gradient\n",
    "<hr style = \"border:2px solid black\" ></hr>"
   ]
  },
  {
   "cell_type": "code",
   "execution_count": 19,
   "id": "396e45ab",
   "metadata": {
    "ExecuteTime": {
     "end_time": "2022-10-18T10:28:36.574201Z",
     "start_time": "2022-10-18T10:28:36.550479Z"
    }
   },
   "outputs": [],
   "source": [
    "model = Sequential()\n",
    "model.add(InputLayer(input_shape=(4,)))\n",
    "model.add(Dense(1, use_bias=False))\n",
    "model.compile(loss='mse', optimizer=\"adam\")"
   ]
  },
  {
   "cell_type": "code",
   "execution_count": 20,
   "id": "16670019",
   "metadata": {
    "ExecuteTime": {
     "end_time": "2022-10-18T10:28:42.592736Z",
     "start_time": "2022-10-18T10:28:42.584725Z"
    }
   },
   "outputs": [
    {
     "name": "stdout",
     "output_type": "stream",
     "text": [
      "Model: \"sequential_3\"\n",
      "_________________________________________________________________\n",
      " Layer (type)                Output Shape              Param #   \n",
      "=================================================================\n",
      " dense_3 (Dense)             (None, 1)                 4         \n",
      "                                                                 \n",
      "=================================================================\n",
      "Total params: 4\n",
      "Trainable params: 4\n",
      "Non-trainable params: 0\n",
      "_________________________________________________________________\n"
     ]
    }
   ],
   "source": [
    "model.summary()"
   ]
  },
  {
   "cell_type": "code",
   "execution_count": 28,
   "id": "d28ef565",
   "metadata": {
    "ExecuteTime": {
     "end_time": "2022-10-18T10:29:44.916745Z",
     "start_time": "2022-10-18T10:29:44.867587Z"
    }
   },
   "outputs": [
    {
     "name": "stdout",
     "output_type": "stream",
     "text": [
      "1/1 [==============================] - 0s 3ms/step - loss: 24.3909\n"
     ]
    }
   ],
   "source": [
    "history = model.fit(X, y, verbose=1)"
   ]
  },
  {
   "cell_type": "code",
   "execution_count": 29,
   "id": "5f231764",
   "metadata": {
    "ExecuteTime": {
     "end_time": "2022-10-18T10:29:45.333658Z",
     "start_time": "2022-10-18T10:29:45.329346Z"
    }
   },
   "outputs": [
    {
     "data": {
      "text/plain": [
       "[<tf.Variable 'dense_3/kernel:0' shape=(4, 1) dtype=float32, numpy=\n",
       " array([[ 0.5509066 ],\n",
       "        [ 0.15642364],\n",
       "        [-0.4742774 ],\n",
       "        [-0.0551316 ]], dtype=float32)>]"
      ]
     },
     "execution_count": 29,
     "metadata": {},
     "output_type": "execute_result"
    }
   ],
   "source": [
    "model.trainable_weights"
   ]
  },
  {
   "cell_type": "markdown",
   "id": "37d65bc8",
   "metadata": {},
   "source": [
    "# Linear regression via non-stochastic gradient\n",
    "<hr style = \"border:2px solid black\" ></hr>"
   ]
  },
  {
   "cell_type": "markdown",
   "id": "cbbf744d",
   "metadata": {},
   "source": [
    "<div class=\"alert alert-info\">\n",
    "<font color=black>\n",
    "\n",
    "- The default option is `cg` which stands for conjugate-gradient.\n",
    "\n",
    "</font>\n",
    "</div>"
   ]
  },
  {
   "cell_type": "code",
   "execution_count": 12,
   "id": "2992d1fc",
   "metadata": {
    "ExecuteTime": {
     "end_time": "2022-10-18T10:20:13.540004Z",
     "start_time": "2022-10-18T10:20:13.524421Z"
    }
   },
   "outputs": [],
   "source": [
    "model = Sequential()\n",
    "model.add(InputLayer(input_shape=(4,)))\n",
    "model.add(Dense(1, use_bias=False))\n",
    "model.compile(loss='mse')"
   ]
  },
  {
   "cell_type": "code",
   "execution_count": 13,
   "id": "06e39162",
   "metadata": {
    "ExecuteTime": {
     "end_time": "2022-10-18T10:20:14.199811Z",
     "start_time": "2022-10-18T10:20:14.190470Z"
    }
   },
   "outputs": [
    {
     "name": "stdout",
     "output_type": "stream",
     "text": [
      "Model: \"sequential_1\"\n",
      "_________________________________________________________________\n",
      " Layer (type)                Output Shape              Param #   \n",
      "=================================================================\n",
      " dense_1 (Dense)             (None, 1)                 4         \n",
      "                                                                 \n",
      "=================================================================\n",
      "Total params: 4\n",
      "Trainable params: 4\n",
      "Non-trainable params: 0\n",
      "_________________________________________________________________\n"
     ]
    }
   ],
   "source": [
    "model.summary()"
   ]
  },
  {
   "cell_type": "code",
   "execution_count": 16,
   "id": "41a9f5de",
   "metadata": {
    "ExecuteTime": {
     "end_time": "2022-10-18T10:20:41.642728Z",
     "start_time": "2022-10-18T10:20:41.553940Z"
    }
   },
   "outputs": [
    {
     "name": "stdout",
     "output_type": "stream",
     "text": [
      "      0/Unknown - 0s 0s/step - loss: 1.5154e-10Optimization terminated successfully.\n",
      "         Current function value: 0.000000\n",
      "         Iterations: 0\n",
      "         Function evaluations: 1\n",
      "         Gradient evaluations: 1\n",
      "1/1 [==============================] - 0s 43ms/step - loss: 1.5154e-10\n"
     ]
    }
   ],
   "source": [
    "#%%\n",
    "# Use scipy.optimize to minimize the cost\n",
    "model.train_function = scipy_optimizer.make_train_function(\n",
    "            model, maxiter=20)\n",
    "history = model.fit(X, y, verbose=1)"
   ]
  },
  {
   "cell_type": "code",
   "execution_count": 17,
   "id": "d7d4bdf8",
   "metadata": {
    "ExecuteTime": {
     "end_time": "2022-10-18T10:20:50.225567Z",
     "start_time": "2022-10-18T10:20:50.221068Z"
    }
   },
   "outputs": [
    {
     "data": {
      "text/plain": [
       "[<tf.Variable 'dense_1/kernel:0' shape=(4, 1) dtype=float32, numpy=\n",
       " array([[0.99998045],\n",
       "        [2.0000176 ],\n",
       "        [3.0000188 ],\n",
       "        [3.9999766 ]], dtype=float32)>]"
      ]
     },
     "execution_count": 17,
     "metadata": {},
     "output_type": "execute_result"
    }
   ],
   "source": [
    "# Show weights.\n",
    "model.trainable_weights"
   ]
  },
  {
   "cell_type": "markdown",
   "id": "092c2b3b",
   "metadata": {},
   "source": [
    "# References\n",
    "<hr style = \"border:2px solid black\" ></hr>"
   ]
  },
  {
   "cell_type": "markdown",
   "id": "b0a122ae",
   "metadata": {},
   "source": [
    "<div class=\"alert alert-warning\">\n",
    "<font color=black>\n",
    "\n",
    "- https://github.com/pedro-r-marques/keras-opt\n",
    "\n",
    "</font>\n",
    "</div>"
   ]
  },
  {
   "cell_type": "code",
   "execution_count": null,
   "id": "4bda4d0d",
   "metadata": {},
   "outputs": [],
   "source": []
  }
 ],
 "metadata": {
  "kernelspec": {
   "display_name": "trainingAI",
   "language": "python",
   "name": "trainingai"
  },
  "language_info": {
   "codemirror_mode": {
    "name": "ipython",
    "version": 3
   },
   "file_extension": ".py",
   "mimetype": "text/x-python",
   "name": "python",
   "nbconvert_exporter": "python",
   "pygments_lexer": "ipython3",
   "version": "3.9.7"
  },
  "toc": {
   "base_numbering": 1,
   "nav_menu": {},
   "number_sections": true,
   "sideBar": true,
   "skip_h1_title": false,
   "title_cell": "Table of Contents",
   "title_sidebar": "Contents",
   "toc_cell": true,
   "toc_position": {},
   "toc_section_display": true,
   "toc_window_display": true
  },
  "varInspector": {
   "cols": {
    "lenName": 16,
    "lenType": 16,
    "lenVar": 40
   },
   "kernels_config": {
    "python": {
     "delete_cmd_postfix": "",
     "delete_cmd_prefix": "del ",
     "library": "var_list.py",
     "varRefreshCmd": "print(var_dic_list())"
    },
    "r": {
     "delete_cmd_postfix": ") ",
     "delete_cmd_prefix": "rm(",
     "library": "var_list.r",
     "varRefreshCmd": "cat(var_dic_list()) "
    }
   },
   "types_to_exclude": [
    "module",
    "function",
    "builtin_function_or_method",
    "instance",
    "_Feature"
   ],
   "window_display": false
  }
 },
 "nbformat": 4,
 "nbformat_minor": 5
}
