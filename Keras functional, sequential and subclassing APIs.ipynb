{
 "cells": [
  {
   "cell_type": "markdown",
   "id": "f30f1b1b",
   "metadata": {},
   "source": [
    "# Introduction\n",
    "<hr style=\"border:2px solid black\"> </hr>"
   ]
  },
  {
   "cell_type": "markdown",
   "id": "b948b20f",
   "metadata": {},
   "source": [
    "<div class=\"alert alert-warning\">\n",
    "<font color=black>\n",
    "\n",
    "**What?** Keras functional, sequential and subclassing APIs\n",
    "\n",
    "</font>\n",
    "</div>"
   ]
  },
  {
   "cell_type": "markdown",
   "id": "f5a27761",
   "metadata": {},
   "source": [
    "# Import modules\n",
    "<hr style=\"border:2px solid black\"> </hr>"
   ]
  },
  {
   "cell_type": "code",
   "execution_count": 6,
   "id": "47e083f5",
   "metadata": {},
   "outputs": [],
   "source": [
    "from keras.models import Sequential, Model\n",
    "from keras.layers import Dense, Input\n",
    "\n",
    "import numpy as np\n",
    "import tensorflow as tf\n",
    "\n",
    "from tensorflow import keras\n",
    "from tensorflow.keras import layers"
   ]
  },
  {
   "cell_type": "markdown",
   "id": "16890de8",
   "metadata": {},
   "source": [
    "# Sequential vs. Functional vs. Suvclassing APIs\n",
    "<hr style=\"border:2px solid black\"> </hr>"
   ]
  },
  {
   "cell_type": "markdown",
   "id": "6cd3043b",
   "metadata": {},
   "source": [
    "<div class=\"alert alert-info\">\n",
    "<font color=black>\n",
    "\n",
    "- The Keras or more specifically the Models API can be divided into three parts, therefore making it possible to create models in multiple ways:\n",
    "    - The **sequential API** allows you to create models layer-by-layer for most problems. This makes it on the one hand very easy for us to use and to debug, whereas, on the other hand, we lose a lot of flexibility. To be more specific, it is limited in that it does not allow you to create models that share layers or have multiple inputs or outputs or we want to use a non-linear topology e.g. residual or skip-connections.\n",
    "    - The **functional API** in Keras is an alternate way of creating models that offers a lot more flexibility, including creating more complex models. It enables us to create a non-linear topology, shared layers, and even multiple inputs or outputs. The main idea, underlying the functional API, is the building of a *graph of layers*.\n",
    "    -  The **subclassing API** provides us with maximum flexibility. However, this flexibility comes with the price of increased complexity and verbosity. The Layer Class is one of the central abstractions in Keras. A layer holds both a state (the layer’s weights) and a transformation from inputs to outputs (the forward pass from a call). Creating custom layers is especially useful when the model’s complexity increases, providing us with the means to create reusable “blocks” within our model’s architecture.\n",
    "    \n",
    "\n",
    "</font>\n",
    "</div>"
   ]
  },
  {
   "cell_type": "markdown",
   "id": "b8fa8c30",
   "metadata": {},
   "source": [
    "# Load dataset\n",
    "<hr style=\"border:2px solid black\"> </hr>"
   ]
  },
  {
   "cell_type": "code",
   "execution_count": 3,
   "id": "f6eec91b",
   "metadata": {},
   "outputs": [],
   "source": [
    "# set seed to reproduce results\n",
    "seed = 2021\n",
    "np.random.seed(seed)\n",
    "tf.random.set_seed(seed)\n",
    "\n",
    "# load MNIST dataset\n",
    "(X_train, y_train), (X_test, y_test) = keras.datasets.mnist.load_data()\n",
    "# pre-process, normalize data\n",
    "X_train, X_test = X_train / 255.0, X_test / 255.0"
   ]
  },
  {
   "cell_type": "markdown",
   "id": "1a1dbf9e",
   "metadata": {},
   "source": [
    "# Sequential API\n",
    "<hr style=\"border:2px solid black\"> </hr>"
   ]
  },
  {
   "cell_type": "markdown",
   "id": "77993242",
   "metadata": {},
   "source": [
    "<div class=\"alert alert-info\">\n",
    "<font color=black>\n",
    "\n",
    "- The Sequential model API is a way of creating deep learning models where an instance of the Sequential class is created and model layers are created and added to it.\n",
    "- There are **two ways** you can use the sequential API:\n",
    "    - Pass the layers as an array\n",
    "    - Layer can be add in a piecewise manner    \n",
    "    \n",
    "</font>\n",
    "</div>"
   ]
  },
  {
   "cell_type": "code",
   "execution_count": 7,
   "id": "c104fab6",
   "metadata": {
    "cell_style": "split"
   },
   "outputs": [
    {
     "name": "stdout",
     "output_type": "stream",
     "text": [
      "Model: \"sequential\"\n",
      "_________________________________________________________________\n",
      "Layer (type)                 Output Shape              Param #   \n",
      "=================================================================\n",
      "dense (Dense)                (None, 2)                 4         \n",
      "_________________________________________________________________\n",
      "dense_1 (Dense)              (None, 1)                 3         \n",
      "=================================================================\n",
      "Total params: 7\n",
      "Trainable params: 7\n",
      "Non-trainable params: 0\n",
      "_________________________________________________________________\n"
     ]
    }
   ],
   "source": [
    "model = Sequential([Dense(2, input_dim=1),\n",
    "                    Dense(1)])\n",
    "\n",
    "model.summary()"
   ]
  },
  {
   "cell_type": "code",
   "execution_count": 8,
   "id": "7286d25f",
   "metadata": {
    "cell_style": "split"
   },
   "outputs": [
    {
     "name": "stdout",
     "output_type": "stream",
     "text": [
      "Model: \"sequential_1\"\n",
      "_________________________________________________________________\n",
      "Layer (type)                 Output Shape              Param #   \n",
      "=================================================================\n",
      "dense_2 (Dense)              (None, 2)                 4         \n",
      "_________________________________________________________________\n",
      "dense_3 (Dense)              (None, 1)                 3         \n",
      "=================================================================\n",
      "Total params: 7\n",
      "Trainable params: 7\n",
      "Non-trainable params: 0\n",
      "_________________________________________________________________\n"
     ]
    }
   ],
   "source": [
    "model = Sequential()\n",
    "model.add(Dense(2, input_dim=1))\n",
    "model.add(Dense(1))\n",
    "\n",
    "model.summary()"
   ]
  },
  {
   "cell_type": "markdown",
   "id": "4b79d564",
   "metadata": {},
   "source": [
    "<div class=\"alert alert-info\">\n",
    "<font color=black>\n",
    "\n",
    "- Going back to build our model for the MNIST dataset.\n",
    "- We'll use the second option shown above: adding layer in a piecewise manner.\n",
    "\n",
    "</font>\n",
    "</div>"
   ]
  },
  {
   "cell_type": "code",
   "execution_count": 9,
   "id": "fe06fd8f",
   "metadata": {},
   "outputs": [],
   "source": [
    "# get input dimension 28x28 pixels\n",
    "input_dim = (28, 28)\n",
    "# get output dimensions 10 classes\n",
    "output_dim = len(np.unique(y_train))\n",
    "\n",
    "# create sequential model\n",
    "model = keras.Sequential()\n",
    "model.add(layers.Flatten(input_shape=input_dim))\n",
    "model.add(layers.Dense(units=128, activation='relu'))\n",
    "model.add(layers.BatchNormalization())\n",
    "model.add(layers.Dense(units=128, activation='relu'))\n",
    "model.add(layers.BatchNormalization())\n",
    "model.add(layers.Dense(units=output_dim, activation='softmax'))"
   ]
  },
  {
   "cell_type": "code",
   "execution_count": 10,
   "id": "12c89108",
   "metadata": {},
   "outputs": [
    {
     "name": "stdout",
     "output_type": "stream",
     "text": [
      "Epoch 1/5\n",
      "422/422 [==============================] - 2s 3ms/step - loss: 0.2574 - acc: 0.9234 - val_loss: 0.1093 - val_acc: 0.9693\n",
      "Epoch 2/5\n",
      "422/422 [==============================] - 1s 2ms/step - loss: 0.1003 - acc: 0.9694 - val_loss: 0.0907 - val_acc: 0.9745\n",
      "Epoch 3/5\n",
      "422/422 [==============================] - 1s 2ms/step - loss: 0.0673 - acc: 0.9793 - val_loss: 0.0809 - val_acc: 0.9753\n",
      "Epoch 4/5\n",
      "422/422 [==============================] - 1s 3ms/step - loss: 0.0483 - acc: 0.9852 - val_loss: 0.0776 - val_acc: 0.9780\n",
      "Epoch 5/5\n",
      "422/422 [==============================] - 1s 3ms/step - loss: 0.0384 - acc: 0.9879 - val_loss: 0.0731 - val_acc: 0.9795\n",
      "Model: \"sequential\"\n",
      "_________________________________________________________________\n",
      "Layer (type)                 Output Shape              Param #   \n",
      "=================================================================\n",
      "flatten (Flatten)            (None, 784)               0         \n",
      "_________________________________________________________________\n",
      "dense (Dense)                (None, 128)               100480    \n",
      "_________________________________________________________________\n",
      "batch_normalization (BatchNo (None, 128)               512       \n",
      "_________________________________________________________________\n",
      "dense_1 (Dense)              (None, 128)               16512     \n",
      "_________________________________________________________________\n",
      "batch_normalization_1 (Batch (None, 128)               512       \n",
      "_________________________________________________________________\n",
      "dense_2 (Dense)              (None, 10)                1290      \n",
      "=================================================================\n",
      "Total params: 119,306\n",
      "Trainable params: 118,794\n",
      "Non-trainable params: 512\n",
      "_________________________________________________________________\n"
     ]
    }
   ],
   "source": [
    "# compile the model\n",
    "model.compile(\n",
    "    optimizer=keras.optimizers.Adam(learning_rate=1e-3),\n",
    "    loss=keras.losses.SparseCategoricalCrossentropy(),\n",
    "    metrics=['acc']\n",
    ")\n",
    "\n",
    "# train the model\n",
    "model.fit(\n",
    "    X_train, y_train,\n",
    "    epochs=5,\n",
    "    batch_size=128,\n",
    "    validation_split=0.1,\n",
    "    verbose=1\n",
    ")\n",
    "\n",
    "# get model summary\n",
    "model.summary()"
   ]
  },
  {
   "cell_type": "markdown",
   "id": "746cca14",
   "metadata": {},
   "source": [
    "# Functional API\n",
    "<hr style=\"border:2px solid black\"> </hr>"
   ]
  },
  {
   "cell_type": "markdown",
   "id": "5d4ae4cd",
   "metadata": {},
   "source": [
    "<div class=\"alert alert-info\">\n",
    "<font color=black>\n",
    "\n",
    "- It specifically allows you to define multiple input or output models as well as models that share layers.\n",
    "- A bracket notation is used as in `(current)(input)`\n",
    "    \n",
    "</font>\n",
    "</div>"
   ]
  },
  {
   "cell_type": "code",
   "execution_count": 20,
   "id": "ac9483b0",
   "metadata": {},
   "outputs": [
    {
     "name": "stdout",
     "output_type": "stream",
     "text": [
      "Model: \"model_12\"\n",
      "_________________________________________________________________\n",
      "Layer (type)                 Output Shape              Param #   \n",
      "=================================================================\n",
      "input_14 (InputLayer)        [(None, 2)]               0         \n",
      "_________________________________________________________________\n",
      "dense_23 (Dense)             (None, 2)                 6         \n",
      "=================================================================\n",
      "Total params: 6\n",
      "Trainable params: 6\n",
      "Non-trainable params: 0\n",
      "_________________________________________________________________\n"
     ]
    }
   ],
   "source": [
    "visible = Input(shape=(2,))\n",
    "hidden = Dense(2)(visible)\n",
    "model = Model(inputs=visible, outputs=hidden)\n",
    "model.summary()"
   ]
  },
  {
   "cell_type": "markdown",
   "id": "6ac6fbcd",
   "metadata": {},
   "source": [
    "<div class=\"alert alert-info\">\n",
    "<font color=black>\n",
    "\n",
    "- `hidden = Dense(2)(visible)` what is this syntax doing?\n",
    "    - `Dense(2)` creates the layer via the class constructor hence via `__init__`\n",
    "    - `(visibile)` is the second bracket “(input)” and is a function with no name implemented via the `__call__()` function, that when called will connect the layers.\n",
    "    - The `__call__()` function is a default function on all Python objects that can be overridden and is used to “call” an instantiated object.\n",
    "    \n",
    "</font>\n",
    "</div>"
   ]
  },
  {
   "cell_type": "code",
   "execution_count": 21,
   "id": "2812e79f",
   "metadata": {
    "cell_style": "split"
   },
   "outputs": [],
   "source": [
    "# Shorter notation\n",
    "visible = Input(shape=(2,))\n",
    "hidden = Dense(2)(visible)"
   ]
  },
  {
   "cell_type": "code",
   "execution_count": 22,
   "id": "0dc7a3c7",
   "metadata": {
    "cell_style": "split"
   },
   "outputs": [
    {
     "data": {
      "text/plain": [
       "<KerasTensor: shape=(None, 2) dtype=float32 (created by layer 'dense_25')>"
      ]
     },
     "execution_count": 22,
     "metadata": {},
     "output_type": "execute_result"
    }
   ],
   "source": [
    "# Equivalent\n",
    "visible = Input(shape=(2,))\n",
    "hidden = Dense(2)\n",
    "# connect layer to previous layer\n",
    "hidden.__call__(visible)"
   ]
  },
  {
   "cell_type": "code",
   "execution_count": 12,
   "id": "1273232a",
   "metadata": {},
   "outputs": [],
   "source": [
    "# get input dimension 28x28 pixels\n",
    "input_dim = (28, 28)\n",
    "# get output dimensions 10 classes\n",
    "output_dim = len(np.unique(y_train))\n",
    "\n",
    "# create model with functional api\n",
    "def create_model(input_dim, output_dim):\n",
    "    inputs = layers.Input(shape=input_dim)\n",
    "    x = layers.Flatten()(inputs)\n",
    "    x = layers.Dense(units=128, activation='relu')(x)\n",
    "    x = layers.BatchNormalization()(x)\n",
    "    x = layers.Dense(units=128, activation='relu')(x)\n",
    "    x = layers.BatchNormalization()(x)\n",
    "    outputs = layers.Dense(units=output_dim, activation='softmax')(x)\n",
    "    return keras.Model(inputs=inputs, outputs=outputs)\n",
    "\n",
    "\n",
    "model = create_model(input_dim, output_dim)"
   ]
  },
  {
   "cell_type": "code",
   "execution_count": 13,
   "id": "22ed0910",
   "metadata": {},
   "outputs": [
    {
     "name": "stdout",
     "output_type": "stream",
     "text": [
      "Epoch 1/5\n",
      "422/422 [==============================] - 2s 3ms/step - loss: 0.2510 - acc: 0.9237 - val_loss: 0.1094 - val_acc: 0.9688\n",
      "Epoch 2/5\n",
      "422/422 [==============================] - 1s 3ms/step - loss: 0.1007 - acc: 0.9704 - val_loss: 0.0918 - val_acc: 0.9737\n",
      "Epoch 3/5\n",
      "422/422 [==============================] - 1s 3ms/step - loss: 0.0666 - acc: 0.9797 - val_loss: 0.0974 - val_acc: 0.9735\n",
      "Epoch 4/5\n",
      "422/422 [==============================] - 1s 3ms/step - loss: 0.0505 - acc: 0.9839 - val_loss: 0.0773 - val_acc: 0.9775\n",
      "Epoch 5/5\n",
      "422/422 [==============================] - 1s 3ms/step - loss: 0.0375 - acc: 0.9882 - val_loss: 0.0777 - val_acc: 0.9785\n",
      "Model: \"model_1\"\n",
      "_________________________________________________________________\n",
      "Layer (type)                 Output Shape              Param #   \n",
      "=================================================================\n",
      "input_2 (InputLayer)         [(None, 28, 28)]          0         \n",
      "_________________________________________________________________\n",
      "flatten_2 (Flatten)          (None, 784)               0         \n",
      "_________________________________________________________________\n",
      "dense_6 (Dense)              (None, 128)               100480    \n",
      "_________________________________________________________________\n",
      "batch_normalization_4 (Batch (None, 128)               512       \n",
      "_________________________________________________________________\n",
      "dense_7 (Dense)              (None, 128)               16512     \n",
      "_________________________________________________________________\n",
      "batch_normalization_5 (Batch (None, 128)               512       \n",
      "_________________________________________________________________\n",
      "dense_8 (Dense)              (None, 10)                1290      \n",
      "=================================================================\n",
      "Total params: 119,306\n",
      "Trainable params: 118,794\n",
      "Non-trainable params: 512\n",
      "_________________________________________________________________\n"
     ]
    }
   ],
   "source": [
    "# compile the model\n",
    "model.compile(\n",
    "    optimizer=keras.optimizers.Adam(learning_rate=1e-3),\n",
    "    loss=keras.losses.SparseCategoricalCrossentropy(),\n",
    "    metrics=['acc']\n",
    ")\n",
    "\n",
    "# train the model\n",
    "model.fit(\n",
    "    X_train, y_train,\n",
    "    epochs=5,\n",
    "    batch_size=128,\n",
    "    validation_split=0.1,\n",
    "    verbose=1\n",
    ")\n",
    "\n",
    "# get model summary\n",
    "model.summary()"
   ]
  },
  {
   "cell_type": "markdown",
   "id": "e0faf3b0",
   "metadata": {},
   "source": [
    "# Model Subclassing API\n",
    "<hr style=\"border:2px solid black\"> </hr>"
   ]
  },
  {
   "cell_type": "markdown",
   "id": "625857bb",
   "metadata": {},
   "source": [
    "<div class=\"alert alert-info\">\n",
    "<font color=black>\n",
    "\n",
    "- In our model, we can use a custom layer to create a basic building block that occurs multiple times in our architecture. The class below inherits from the layer class and initializes two layers: Dense and BatchNormalization. Both layers are then simply called within the forward pass\n",
    "\n",
    "</font>\n",
    "</div>"
   ]
  },
  {
   "cell_type": "code",
   "execution_count": 16,
   "id": "5827f4dc",
   "metadata": {},
   "outputs": [],
   "source": [
    "# get input dimensions 28x28 pixels\n",
    "input_dim = (28, 28)\n",
    "# get output dimensions 10 classes\n",
    "output_dim = len(np.unique(y_train))\n",
    "# define layer for fully connected NN\n",
    "hidden_layer = [128, 128]\n",
    "\n",
    "# define custom layer\n",
    "class DenseBlock(layers.Layer):\n",
    "    def __init__(self, units, activation='relu'):\n",
    "        super().__init__()\n",
    "        self.dense = layers.Dense(units, activation)\n",
    "        self.bn = layers.BatchNormalization()\n",
    "\n",
    "    def call(self, inputs):\n",
    "        x = self.dense(inputs)\n",
    "        x = self.bn(x)\n",
    "        return x"
   ]
  },
  {
   "cell_type": "markdown",
   "id": "6bb43142",
   "metadata": {},
   "source": [
    "<div class=\"alert alert-info\">\n",
    "<font color=black>\n",
    "\n",
    "- Next, we create our model utilizing our custom layer from above. Our class inherits from the Keras Model Class, hence the name subclassing. \n",
    "- We initialize our custom layer based on the hidden_layer = [128,128] as well as two other layers: Flatten and our final output layer. All of the layers are then just simply called within the model’s forward pass.\n",
    "\n",
    "</font>\n",
    "</div>"
   ]
  },
  {
   "cell_type": "code",
   "execution_count": 17,
   "id": "c0a39b76",
   "metadata": {},
   "outputs": [],
   "source": [
    "# define custom model by subclassing\n",
    "class FCNN(keras.Model):\n",
    "    def __init__(self, hidden_layer, output_dim, activation='relu'):\n",
    "        super().__init__()\n",
    "        self.hidden_layer = [DenseBlock(units) for units in hidden_layer]\n",
    "        self.flatten = layers.Flatten()\n",
    "        self.softmax = layers.Dense(units=output_dim, activation='softmax')\n",
    "    \n",
    "    def call(self, inputs):\n",
    "        x = self.flatten(inputs)\n",
    "        for layer in self.hidden_layer:\n",
    "            x = layer(x)\n",
    "        x = self.softmax(x)\n",
    "        return x\n",
    "\n",
    "# instantiate new model\n",
    "model = FCNN(hidden_layer, output_dim)"
   ]
  },
  {
   "cell_type": "code",
   "execution_count": 18,
   "id": "20692053",
   "metadata": {},
   "outputs": [
    {
     "name": "stdout",
     "output_type": "stream",
     "text": [
      "Epoch 1/5\n",
      "422/422 [==============================] - 2s 3ms/step - loss: 0.2638 - acc: 0.9206 - val_loss: 0.1175 - val_acc: 0.9682\n",
      "Epoch 2/5\n",
      "422/422 [==============================] - 1s 3ms/step - loss: 0.1047 - acc: 0.9686 - val_loss: 0.1000 - val_acc: 0.9705\n",
      "Epoch 3/5\n",
      "422/422 [==============================] - 1s 3ms/step - loss: 0.0711 - acc: 0.9786 - val_loss: 0.0869 - val_acc: 0.9742\n",
      "Epoch 4/5\n",
      "422/422 [==============================] - 1s 3ms/step - loss: 0.0525 - acc: 0.9838 - val_loss: 0.0801 - val_acc: 0.9762\n",
      "Epoch 5/5\n",
      "422/422 [==============================] - 1s 3ms/step - loss: 0.0402 - acc: 0.9877 - val_loss: 0.0837 - val_acc: 0.9755\n",
      "Model: \"fcnn_1\"\n",
      "_________________________________________________________________\n",
      "Layer (type)                 Output Shape              Param #   \n",
      "=================================================================\n",
      "dense_block_2 (DenseBlock)   multiple                  100992    \n",
      "_________________________________________________________________\n",
      "dense_block_3 (DenseBlock)   multiple                  17024     \n",
      "_________________________________________________________________\n",
      "flatten_4 (Flatten)          multiple                  0         \n",
      "_________________________________________________________________\n",
      "dense_14 (Dense)             multiple                  1290      \n",
      "=================================================================\n",
      "Total params: 119,306\n",
      "Trainable params: 118,794\n",
      "Non-trainable params: 512\n",
      "_________________________________________________________________\n"
     ]
    }
   ],
   "source": [
    "# compile the model\n",
    "model.compile(\n",
    "    optimizer=keras.optimizers.Adam(learning_rate=1e-3),\n",
    "    loss=keras.losses.SparseCategoricalCrossentropy(),\n",
    "    metrics=['acc']\n",
    ")\n",
    "\n",
    "# train the model\n",
    "model.fit(\n",
    "    X_train, y_train,\n",
    "    epochs=5,\n",
    "    batch_size=128,\n",
    "    validation_split=0.1,\n",
    "    verbose=1\n",
    ")\n",
    "\n",
    "# get model summary\n",
    "model.summary()"
   ]
  },
  {
   "cell_type": "markdown",
   "id": "396e5fa1",
   "metadata": {},
   "source": [
    "# Conclusions\n",
    "<hr style=\"border:2px solid black\"> </hr>"
   ]
  },
  {
   "cell_type": "markdown",
   "id": "59d1ba4f",
   "metadata": {},
   "source": [
    "<div class=\"alert alert-danger\">\n",
    "<font color=black>\n",
    "\n",
    "- There are three ways to create models in Keras. Depending on the problem we have to solve and the model we need to build one way might be better suited than the other — but there is no absolute best or correct way in general.\n",
    "\n",
    "- Simple, linear, and straightforward models can and probably should be built with either the sequential or the functional API. More complex, non-linear, and highly customized models will however benefit greatly from subclassing.\n",
    "\n",
    "</font>\n",
    "</div>"
   ]
  },
  {
   "cell_type": "markdown",
   "id": "b82b74d3",
   "metadata": {},
   "source": [
    "# References\n",
    "<hr style=\"border:2px solid black\"> </hr>"
   ]
  },
  {
   "cell_type": "markdown",
   "id": "48d4fb38",
   "metadata": {},
   "source": [
    "<div class=\"alert alert-warning\">\n",
    "<font color=black>\n",
    "\n",
    "- https://towardsdatascience.com/build-your-neural-networks-with-keras-in-three-ways-553cea182c6b\n",
    "- https://machinelearningmastery.com/keras-functional-api-deep-learning/\n",
    "- [KERAS API](https://keras.io/api/models/)\n",
    "\n",
    "</font>\n",
    "</div>"
   ]
  },
  {
   "cell_type": "code",
   "execution_count": null,
   "id": "f6962f53",
   "metadata": {},
   "outputs": [],
   "source": []
  }
 ],
 "metadata": {
  "hide_input": false,
  "kernelspec": {
   "display_name": "trainingAI",
   "language": "python",
   "name": "trainingai"
  },
  "language_info": {
   "codemirror_mode": {
    "name": "ipython",
    "version": 3
   },
   "file_extension": ".py",
   "mimetype": "text/x-python",
   "name": "python",
   "nbconvert_exporter": "python",
   "pygments_lexer": "ipython3",
   "version": "3.9.7"
  },
  "toc": {
   "base_numbering": 1,
   "nav_menu": {},
   "number_sections": true,
   "sideBar": true,
   "skip_h1_title": false,
   "title_cell": "Table of Contents",
   "title_sidebar": "Contents",
   "toc_cell": false,
   "toc_position": {},
   "toc_section_display": true,
   "toc_window_display": false
  },
  "varInspector": {
   "cols": {
    "lenName": 16,
    "lenType": 16,
    "lenVar": 40
   },
   "kernels_config": {
    "python": {
     "delete_cmd_postfix": "",
     "delete_cmd_prefix": "del ",
     "library": "var_list.py",
     "varRefreshCmd": "print(var_dic_list())"
    },
    "r": {
     "delete_cmd_postfix": ") ",
     "delete_cmd_prefix": "rm(",
     "library": "var_list.r",
     "varRefreshCmd": "cat(var_dic_list()) "
    }
   },
   "types_to_exclude": [
    "module",
    "function",
    "builtin_function_or_method",
    "instance",
    "_Feature"
   ],
   "window_display": false
  }
 },
 "nbformat": 4,
 "nbformat_minor": 5
}
